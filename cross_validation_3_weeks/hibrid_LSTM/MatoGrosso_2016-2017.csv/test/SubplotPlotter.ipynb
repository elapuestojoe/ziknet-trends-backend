{
 "cells": [
  {
   "cell_type": "code",
   "execution_count": 2,
   "metadata": {
    "collapsed": true
   },
   "outputs": [],
   "source": [
    "import pandas as pd\n",
    "import os\n",
    "import matplotlib.pyplot as plt"
   ]
  },
  {
   "cell_type": "code",
   "execution_count": 6,
   "metadata": {},
   "outputs": [
    {
     "name": "stdout",
     "output_type": "stream",
     "text": [
      "         Date  Searches     Observed  H-LSTM-Prediction  H-LSTM-Error  \\\n",
      "0  15/02/2016      0.59  2208.851344        1676.151071   -532.700273   \n",
      "1  22/02/2016      0.62  1856.192742        1825.802395    -30.390347   \n",
      "2  29/02/2016      0.71  1504.800537        1922.702999    417.902462   \n",
      "3  07/03/2016      0.59  1161.006721        1690.411160    529.404439   \n",
      "4  14/03/2016      0.68   818.479303        1336.600574    518.121271   \n",
      "\n",
      "   Naive-Prediction   NaiveError  \n",
      "0       2119.218548   -89.632796  \n",
      "1       2340.364247   484.171505  \n",
      "2       2489.784409   984.983872  \n",
      "3       2208.851344  1047.844623  \n",
      "4       1856.192742  1037.713439  \n"
     ]
    }
   ],
   "source": [
    "dataset = pd.read_csv(\"MatoGrosso_2016-2017.csv\")\n",
    "print(dataset.head())\n",
    "\n",
    "fig = plt.figure(figsize=(16,8))\n",
    "ax1 = plt.subplot2grid((4,4), (0,0), rowspan=3, colspan=4)\n",
    "dataset[[\"H-LSTM-Prediction\", \"Naive-Prediction\", \"Observed\"]].plot(ax=ax1, legend=True)\n",
    "plt.title(\"3 Week ahead predictions for Mato Grosso predictions (2016-2017)\")\n",
    "plt.xlabel(\"Epi Week\")\n",
    "plt.ylabel(\"Zika Cases\")\n",
    "\n",
    "ax1.set_facecolor((0.9, 0.9, 0.9, 0.7))\n",
    "plt.axhline(linewidth=1.5, color='black')\n",
    "plt.grid(linestyle='dashed', linewidth=1.5)\n",
    "\n",
    "ax2 = plt.subplot2grid((4,4), (3,0), rowspan=1, colspan=4)\n",
    "\n",
    "dataset[[\"H-LSTM-Error\", \"NaiveError\"]].plot(ax=ax2, legend=True)\n",
    "plt.title(\"Error per model\")\n",
    "plt.xlabel(\"Epi Week\")\n",
    "plt.ylabel(\"Error\")\n",
    "plt.axhline(linewidth=1.5, color=\"black\")\n",
    "ax2.set_facecolor((0.9, 0.9, 0.9, 0.7))\n",
    "ax2.grid(linestyle=\"dashed\", linewidth=1.5)\n",
    "\n",
    "plt.tight_layout()\n",
    "fig.savefig(\"Plot\")\n"
   ]
  },
  {
   "cell_type": "code",
   "execution_count": null,
   "metadata": {
    "collapsed": true
   },
   "outputs": [],
   "source": []
  }
 ],
 "metadata": {
  "kernelspec": {
   "display_name": "Python 3",
   "language": "python",
   "name": "python3"
  },
  "language_info": {
   "codemirror_mode": {
    "name": "ipython",
    "version": 3
   },
   "file_extension": ".py",
   "mimetype": "text/x-python",
   "name": "python",
   "nbconvert_exporter": "python",
   "pygments_lexer": "ipython3",
   "version": "3.6.3"
  }
 },
 "nbformat": 4,
 "nbformat_minor": 2
}
