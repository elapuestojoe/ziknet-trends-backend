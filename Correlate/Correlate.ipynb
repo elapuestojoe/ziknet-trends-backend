{
 "cells": [
  {
   "cell_type": "code",
   "execution_count": 19,
   "metadata": {
    "collapsed": true
   },
   "outputs": [],
   "source": [
    "import numpy as np\n",
    "import pandas as pd\n",
    "import os\n",
    "import matplotlib.pyplot as plt"
   ]
  },
  {
   "cell_type": "code",
   "execution_count": 27,
   "metadata": {},
   "outputs": [],
   "source": [
    "for country in [\"Brazil\", \"Colombia\", \"Mexico\"]:\n",
    "    \n",
    "    folder = \"../data/{}/processed_data\".format(country)\n",
    "    files = os.listdir(folder)\n",
    "    \n",
    "    correlationCsv =  pd.DataFrame(columns=[\"File\", \"Correlation\"])\n",
    "    for file in files:\n",
    "        dataset = pd.read_csv(\"{}/{}\".format(folder, file), index_col=0)\n",
    "        \n",
    "        correlationCsv = correlationCsv.append({\n",
    "            \"File\": file,\n",
    "            \"Correlation\": np.corrcoef(dataset[\"Cases\"].values, dataset[\"Searches\"].values)[0][1]\n",
    "        }, ignore_index=True)\n",
    "    correlationCsv = correlationCsv.set_index(\"File\")\n",
    "    correlationCsv.to_csv(\"{}-Correlation.csv\".format(country))\n",
    "\n",
    "    #Plot correlation\n",
    "    plt.clf()\n",
    "    correlationCsv[[\"Correlation\"]].plot(figsize=(10,10))\n",
    "    plt.title(\"{} 2016-2017 \\nCases/Searches correlation coefficient\".format(country))\n",
    "    ax = plt.gca()\n",
    "    ax.set_facecolor((0.9, 0.9, 0.9, 0.7))\n",
    "    plt.xlabel(\"City\")\n",
    "    plt.xticks(rotation='vertical')\n",
    "    \n",
    "    plt.margins(0.2)\n",
    "    # Tweak spacing to prevent clipping of tick-labels\n",
    "    plt.subplots_adjust(bottom=0.25)\n",
    "    \n",
    "    plt.ylabel(\"Correlation Coefficient\")\n",
    "    plt.legend()\n",
    "    plt.grid(linestyle='dashed', linewidth=1.5)\n",
    "    fig = plt.gcf()\n",
    "    fig.savefig(\"{}-CC.png\".format(country))\n",
    "    plt.close(\"all\")         \n"
   ]
  },
  {
   "cell_type": "code",
   "execution_count": null,
   "metadata": {
    "collapsed": true
   },
   "outputs": [],
   "source": []
  }
 ],
 "metadata": {
  "kernelspec": {
   "display_name": "Python 3",
   "language": "python",
   "name": "python3"
  },
  "language_info": {
   "codemirror_mode": {
    "name": "ipython",
    "version": 3
   },
   "file_extension": ".py",
   "mimetype": "text/x-python",
   "name": "python",
   "nbconvert_exporter": "python",
   "pygments_lexer": "ipython3",
   "version": "3.6.3"
  }
 },
 "nbformat": 4,
 "nbformat_minor": 2
}
