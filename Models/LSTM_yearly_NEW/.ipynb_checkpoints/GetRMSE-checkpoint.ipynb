{
 "cells": [
  {
   "cell_type": "code",
   "execution_count": 37,
   "metadata": {
    "collapsed": true
   },
   "outputs": [],
   "source": [
    "import pandas as pd\n",
    "import os\n"
   ]
  },
  {
   "cell_type": "code",
   "execution_count": 39,
   "metadata": {},
   "outputs": [],
   "source": [
    "comparisonCsv = pd.DataFrame(columns=[\"Country\", \"Cumulative RMSE\", \"AvgRMSE\", \"OBS\"])\n",
    "for country in [\"Brazil\", \"Colombia\", \"Mexico\"]:\n",
    "    \n",
    "    \n",
    "    for folder in os.listdir(country):\n",
    "        RMSE = 0\n",
    "        obs = 0\n",
    "        for file in os.listdir(\"{}/{}\".format(country, folder)):\n",
    "            dataset = pd.read_csv(\"{0}/{1}/{1}\".format(country, folder))\n",
    "            \n",
    "            RMSE += dataset[\"error\"].abs().sum()\n",
    "            obs += len(dataset.index)\n",
    "    comparisonCsv = comparisonCsv.append({\n",
    "        \"Country\" : country,\n",
    "        \"Cumulative RMSE\" : RMSE,\n",
    "        \"AvgRMSE\" : RMSE/obs,\n",
    "        \"OBS\" : obs\n",
    "    }, ignore_index=True)\n",
    "    \n",
    "comparisonCsv.to_csv(\"CountryCsv.csv\")"
   ]
  },
  {
   "cell_type": "code",
   "execution_count": null,
   "metadata": {
    "collapsed": true
   },
   "outputs": [],
   "source": []
  },
  {
   "cell_type": "code",
   "execution_count": null,
   "metadata": {
    "collapsed": true
   },
   "outputs": [],
   "source": []
  }
 ],
 "metadata": {
  "kernelspec": {
   "display_name": "Python 3",
   "language": "python",
   "name": "python3"
  },
  "language_info": {
   "codemirror_mode": {
    "name": "ipython",
    "version": 3
   },
   "file_extension": ".py",
   "mimetype": "text/x-python",
   "name": "python",
   "nbconvert_exporter": "python",
   "pygments_lexer": "ipython3",
   "version": "3.6.3"
  }
 },
 "nbformat": 4,
 "nbformat_minor": 2
}
