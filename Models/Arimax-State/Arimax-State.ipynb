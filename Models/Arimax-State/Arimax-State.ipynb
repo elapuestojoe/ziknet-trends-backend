{
 "cells": [
  {
   "cell_type": "code",
   "execution_count": 2,
   "metadata": {},
   "outputs": [
    {
     "name": "stderr",
     "output_type": "stream",
     "text": [
      "E:\\Aplicaciones\\Anaconda\\lib\\site-packages\\statsmodels\\compat\\pandas.py:56: FutureWarning: The pandas.core.datetools module is deprecated and will be removed in a future version. Please use the pandas.tseries module instead.\n",
      "  from pandas.core import datetools\n"
     ]
    }
   ],
   "source": [
    "import pandas as pd\n",
    "import matplotlib.pyplot as plt\n",
    "import numpy as np\n",
    "import os\n",
    "from statsmodels.tsa.statespace.sarimax import SARIMAX\n",
    "# from statsmodels.tsa.statespace.sarimax import ARIMA"
   ]
  },
  {
   "cell_type": "code",
   "execution_count": 1,
   "metadata": {
    "collapsed": true
   },
   "outputs": [],
   "source": [
    "#Population values\n",
    "population = {\n",
    "    \"Chiapas_2016-2017.csv\": 5217908,\n",
    "    \"Colima_2016-2017.csv\": 711235,\n",
    "    \"Guerrero_2016-2017.csv\": 3533251,\n",
    "    \"Hidalgo_2016-2017.csv\": 2858359,\n",
    "    \"NuevoLeon_2016-2017.csv\": 5119504,\n",
    "    \"Oaxaca_2016-2017.csv\": 3967889,\n",
    "    \"QuintanaRoo_2016-2017.csv\": 1501562,\n",
    "    \"Tabasco_2016-2017.csv\" : 2395272,\n",
    "    \"Veracruz_2016-2017.csv\" : 8112505,\n",
    "    \"Yucatan_2016-2017.csv\" : 2097175,\n",
    "    \n",
    "    \"casanare_2016-2017.csv\" : 356438,\n",
    "    \"cordoba_2016-2017.csv\" : 1709603,\n",
    "    \"cundinamarca_2016-2017.csv\" : 2680041,\n",
    "    \"huila_2016-2017.csv\" : 1154804,\n",
    "    \"meta_2016-2017.csv\" : 961292,\n",
    "    \"santander_2016-2017.csv\" : 2061095,\n",
    "    \"santander_norte_2016-2017.csv\" : 1355723,\n",
    "    \"tolima_2016-2017.csv\" : 1408274,\n",
    "    \"valle_cauca_2016-2017.csv\" : 4613377,\n",
    "    \n",
    "    \"Alagoas_2016-2017.csv\": 3375823,\n",
    "    \"Bahia_2016-2017.csv\": 15344447,\n",
    "    \"Ceara_2016-2017.csv\": 9020460,\n",
    "    \"Goias_2016-2017.csv\": 6778772,\n",
    "    \"Maranhao_2016-2017.csv\": 7000229,\n",
    "    \"MatoGrosso_2016-2017.csv\": 3344544,\n",
    "    \"MinasGerais_2016-2017.csv\": 21119536,\n",
    "    \"Para_2016-2017.csv\": 8366628,\n",
    "    \"RioDeJaneiro_2016-2017.csv\": 16718956,\n",
    "    \"SaoPaulo_2016-2017.csv\": 45094866,\n",
    "}"
   ]
  },
  {
   "cell_type": "code",
   "execution_count": 7,
   "metadata": {
    "collapsed": true
   },
   "outputs": [],
   "source": [
    "ArimaxParameters = {\n",
    "    \"Brazil\" : [2, 1, 0, 0, 0, 0, 52],\n",
    "    \"Colombia\" : [1, 1, 0, 0, 0, 0, 52],\n",
    "    \"Mexico\" : [1, 1, 0, 0, 0, 0, 52],\n",
    "}"
   ]
  },
  {
   "cell_type": "code",
   "execution_count": 48,
   "metadata": {},
   "outputs": [
    {
     "name": "stdout",
     "output_type": "stream",
     "text": [
      "Country - Brazil\n",
      "File - Bahia_2016-2017.csv\n",
      "File - MatoGrosso_2016-2017.csv\n",
      "File - MinasGerais_2016-2017.csv\n",
      "File - RioDeJaneiro_2016-2017.csv\n",
      "File - SaoPaulo_2016-2017.csv\n"
     ]
    },
    {
     "name": "stderr",
     "output_type": "stream",
     "text": [
      "E:\\Aplicaciones\\Anaconda\\lib\\site-packages\\statsmodels\\base\\model.py:496: ConvergenceWarning: Maximum Likelihood optimization failed to converge. Check mle_retvals\n",
      "  \"Check mle_retvals\", ConvergenceWarning)\n",
      "E:\\Aplicaciones\\Anaconda\\lib\\site-packages\\statsmodels\\base\\model.py:496: ConvergenceWarning: Maximum Likelihood optimization failed to converge. Check mle_retvals\n",
      "  \"Check mle_retvals\", ConvergenceWarning)\n"
     ]
    },
    {
     "name": "stdout",
     "output_type": "stream",
     "text": [
      "Country - Colombia\n",
      "File - huila_2016-2017.csv\n",
      "File - santander_2016-2017.csv\n",
      "File - santander_norte_2016-2017.csv\n",
      "File - tolima_2016-2017.csv\n",
      "File - valle_cauca_2016-2017.csv\n",
      "Country - Mexico\n",
      "File - Chiapas_2016-2017.csv\n"
     ]
    },
    {
     "name": "stderr",
     "output_type": "stream",
     "text": [
      "E:\\Aplicaciones\\Anaconda\\lib\\site-packages\\statsmodels\\base\\model.py:496: ConvergenceWarning: Maximum Likelihood optimization failed to converge. Check mle_retvals\n",
      "  \"Check mle_retvals\", ConvergenceWarning)\n"
     ]
    },
    {
     "name": "stdout",
     "output_type": "stream",
     "text": [
      "File - Guerrero_2016-2017.csv\n",
      "File - NuevoLeon_2016-2017.csv\n",
      "File - Veracruz_2016-2017.csv\n",
      "File - Yucatan_2016-2017.csv\n"
     ]
    }
   ],
   "source": [
    "for country in [\"Brazil\", \"Colombia\", \"Mexico\"]:\n",
    "    \n",
    "    print(\"Country - {}\".format(country))\n",
    "    p, d, q, sp, sd, sq, seasonal = ArimaxParameters[country]\n",
    "    \n",
    "    folder = \"../../data/{}/processed_data\".format(country)\n",
    "    files = os.listdir(folder)\n",
    "    \n",
    "    for file in files:\n",
    "        \n",
    "        print(\"File - {}\".format(file))\n",
    "        if(not os.path.exists(\"{}/{}\".format(country, file))):\n",
    "            os.mkdir(\"{}/{}\".format(country, file))\n",
    "        \n",
    "        dataset = pd.read_csv(\"{}/{}\".format(folder, file))\n",
    "        dataset[\"Searches\"] /= 100\n",
    "        state = file\n",
    "        dataset[\"Cases\"] *= (100000/population[state]) # Transform to incidence per 100,000 habitants  \n",
    "        \n",
    "        predictions_df = pd.DataFrame()\n",
    "        predictions_df[\"Observed Cases\"] = dataset[\"Cases\"][52:].values * (population[state] / 100000)\n",
    "        \n",
    "        predictionsArr= []\n",
    "        for i in range(52,104):\n",
    "            model= SARIMAX(dataset[\"Cases\"][:i].values,\n",
    "                exog=dataset[\"Searches\"][:i].values,\n",
    "                trend=\"n\", order=(p,d,q), seasonal_order=(sp,sd,sq,seasonal))\n",
    "            results = model.fit()\n",
    "            \n",
    "            predictions = results.predict(\n",
    "                start=i,\n",
    "                end=i,\n",
    "                exog=dataset[\"Searches\"][i-1:i].values.reshape((1,1))\n",
    "            )\n",
    "            predictionsArr.append(predictions[0]) #CHECK\n",
    "        predictions_df[\"Predicted Cases\"] = predictionsArr\n",
    "        predictions_df[\"Predicted Cases\"] *= (population[state] / 100000)\n",
    "        \n",
    "        predictions_df[\"error\"] = predictions_df[\"Predicted Cases\"]  - predictions_df[\"Observed Cases\"]\n",
    "        predictions_df.to_csv(\"{}/{}/Arimax-{}\".format(country, file, file))\n",
    "        \n",
    "        #Save images\n",
    "        plt.clf()\n",
    "\n",
    "        cols = ['Observed Cases', 'Predicted Cases']\n",
    "        colors = ['#2962FF', '#FF9800']\n",
    "\n",
    "        predictions_df[cols].plot(\n",
    "            figsize=(10, 10),\n",
    "            grid=True,\n",
    "            color=colors\n",
    "        )\n",
    "\n",
    "        plt.title(\"Arimax Model\\n{}\".format(file.replace(\".csv\", \"\").replace(\"_2016-\",\" \")))\n",
    "        ax = plt.gca()\n",
    "        ax.set_facecolor((0.9, 0.9, 0.9, 0.7))\n",
    "        plt.xlabel(\"Date\")\n",
    "        plt.ylabel(\"ZIKV Cases\")\n",
    "        plt.grid(linestyle='dashed', linewidth=1.5)\n",
    "        fig = plt.gcf()\n",
    "        fig.savefig(\"{}/{}/Arimax-{}.png\".format(country, file, file.replace(\".csv\", \"\")))\n",
    "        plt.close(\"all\")"
   ]
  },
  {
   "cell_type": "code",
   "execution_count": null,
   "metadata": {
    "collapsed": true
   },
   "outputs": [],
   "source": []
  },
  {
   "cell_type": "code",
   "execution_count": null,
   "metadata": {
    "collapsed": true
   },
   "outputs": [],
   "source": []
  }
 ],
 "metadata": {
  "kernelspec": {
   "display_name": "Python 3",
   "language": "python",
   "name": "python3"
  },
  "language_info": {
   "codemirror_mode": {
    "name": "ipython",
    "version": 3
   },
   "file_extension": ".py",
   "mimetype": "text/x-python",
   "name": "python",
   "nbconvert_exporter": "python",
   "pygments_lexer": "ipython3",
   "version": "3.6.3"
  }
 },
 "nbformat": 4,
 "nbformat_minor": 2
}
