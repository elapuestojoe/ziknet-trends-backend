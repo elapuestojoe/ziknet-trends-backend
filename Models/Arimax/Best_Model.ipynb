{
 "cells": [
  {
   "cell_type": "code",
   "execution_count": 1,
   "metadata": {
    "collapsed": true
   },
   "outputs": [],
   "source": [
    "import os\n",
    "import pandas as pd"
   ]
  },
  {
   "cell_type": "code",
   "execution_count": 2,
   "metadata": {
    "collapsed": true
   },
   "outputs": [],
   "source": [
    "def getError(folder):\n",
    "    return pd.read_csv(\"{}/Results.csv\".format(folder))[\"error\"].abs().sum()\n",
    "    "
   ]
  },
  {
   "cell_type": "code",
   "execution_count": 3,
   "metadata": {},
   "outputs": [
    {
     "name": "stdout",
     "output_type": "stream",
     "text": [
      "Best model for Brazil: 4,1,4-0,0,0,52\n",
      "Best model for Colombia: 4,1,4-0,0,0,52\n",
      "Best model for Mexico: 0,0,0-2,1,3,1\n"
     ]
    }
   ],
   "source": [
    "for country in [\"Brazil\", \"Colombia\", \"Mexico\"]:\n",
    "    bestModel = None\n",
    "    bestError = None\n",
    "    models = os.listdir(country)\n",
    "    for model in models:\n",
    "        error = 0\n",
    "        for file in os.listdir(\"{}/{}\".format(country, model)):\n",
    "            error += getError(\"{}/{}/{}\".format(country, model, file))\n",
    "\n",
    "        if(bestError is None):\n",
    "            bestError = error\n",
    "            bestModel = model\n",
    "        else:\n",
    "            if(bestError >= error):\n",
    "                bestError = error\n",
    "                bestModel = model\n",
    "    print(\"Best model for {}: {}\".format(country, bestModel))"
   ]
  },
  {
   "cell_type": "code",
   "execution_count": null,
   "metadata": {
    "collapsed": true
   },
   "outputs": [],
   "source": []
  },
  {
   "cell_type": "code",
   "execution_count": null,
   "metadata": {
    "collapsed": true
   },
   "outputs": [],
   "source": []
  }
 ],
 "metadata": {
  "kernelspec": {
   "display_name": "Python 3",
   "language": "python",
   "name": "python3"
  },
  "language_info": {
   "codemirror_mode": {
    "name": "ipython",
    "version": 3
   },
   "file_extension": ".py",
   "mimetype": "text/x-python",
   "name": "python",
   "nbconvert_exporter": "python",
   "pygments_lexer": "ipython3",
   "version": "3.6.3"
  }
 },
 "nbformat": 4,
 "nbformat_minor": 2
}
