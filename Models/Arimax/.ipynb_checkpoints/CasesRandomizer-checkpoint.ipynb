{
 "cells": [
  {
   "cell_type": "code",
   "execution_count": 5,
   "metadata": {
    "collapsed": true
   },
   "outputs": [],
   "source": [
    "import os\n",
    "import random"
   ]
  },
  {
   "cell_type": "code",
   "execution_count": 8,
   "metadata": {},
   "outputs": [
    {
     "name": "stdout",
     "output_type": "stream",
     "text": [
      "Enter country: Mexico\n",
      "Enter number of train files: 7\n"
     ]
    }
   ],
   "source": [
    "country = input(\"Enter country: \")\n",
    "folder = \"../data/{}/processed_data\".format(country)\n",
    "train_number = int(input(\"Enter number of train files: \"))"
   ]
  },
  {
   "cell_type": "code",
   "execution_count": 9,
   "metadata": {},
   "outputs": [],
   "source": [
    "files = os.listdir(folder)"
   ]
  },
  {
   "cell_type": "code",
   "execution_count": null,
   "metadata": {
    "collapsed": true
   },
   "outputs": [],
   "source": [
    "for i in range(10):\n",
    "    train_files = random.sample(files, train_number)\n",
    "    test_files = list(filter(lambda x: x not in train_files, files))\n",
    "    \n",
    "    os.mkdir(\"Train-Test-{}\".format(i))\n",
    "    with open(\"Train.csv\" as) trainOutput:\n",
    "        trainOutput.write(\"Date,Searches,Cases,State\"\\n)\n",
    "        for file in train_file"
   ]
  }
 ],
 "metadata": {
  "kernelspec": {
   "display_name": "Python 3",
   "language": "python",
   "name": "python3"
  },
  "language_info": {
   "codemirror_mode": {
    "name": "ipython",
    "version": 3
   },
   "file_extension": ".py",
   "mimetype": "text/x-python",
   "name": "python",
   "nbconvert_exporter": "python",
   "pygments_lexer": "ipython3",
   "version": "3.6.3"
  }
 },
 "nbformat": 4,
 "nbformat_minor": 2
}
