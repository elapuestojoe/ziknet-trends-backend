{
 "cells": [
  {
   "cell_type": "code",
   "execution_count": 12,
   "metadata": {
    "collapsed": true
   },
   "outputs": [],
   "source": [
    "import os\n",
    "import pandas as pd\n",
    "import shutil"
   ]
  },
  {
   "cell_type": "code",
   "execution_count": 18,
   "metadata": {
    "collapsed": true
   },
   "outputs": [],
   "source": [
    "def getError(folder, file):\n",
    "    \n",
    "    if(pd.read_csv(\"{}/Arimax-{}\".format(folder, file))[\"error\"].abs().sum()==0):\n",
    "        return float(\"inf\")\n",
    "    return pd.read_csv(\"{}/Arimax-{}\".format(folder, file))[\"error\"].abs().sum()\n",
    "    "
   ]
  },
  {
   "cell_type": "code",
   "execution_count": 19,
   "metadata": {},
   "outputs": [
    {
     "name": "stdout",
     "output_type": "stream",
     "text": [
      "Best model for Brazil: 2,1,0-0,0,0,52\n",
      "Best model for Colombia: 1,1,0-0,0,0,52\n",
      "Best model for Mexico: 1,1,0-0,0,0,52\n"
     ]
    }
   ],
   "source": [
    "for country in [\"Brazil\", \"Colombia\", \"Mexico\"]:\n",
    "    bestModel = None\n",
    "    bestError = None\n",
    "    models = os.listdir(country)\n",
    "    for model in models:\n",
    "        error = 0\n",
    "        \n",
    "        files = os.listdir(\"{}/{}\".format(country, model))\n",
    "        \n",
    "        if(len(files)==5):\n",
    "            for file in files:\n",
    "                error += getError(\"{}/{}/{}\".format(country, model, file), file)\n",
    "\n",
    "            if(bestError is None):\n",
    "                bestError = error\n",
    "                bestModel = model\n",
    "            else:\n",
    "                if(bestError >= error):\n",
    "                    bestError = error\n",
    "                    bestModel = model\n",
    "    print(\"Best model for {}: {}\".format(country, bestModel))\n",
    "#     shutil.copy(\"{}/{}\".format(country, bestModel), \"BestModels/{}/{}\".format(country, bestModel))"
   ]
  },
  {
   "cell_type": "code",
   "execution_count": null,
   "metadata": {
    "collapsed": true
   },
   "outputs": [],
   "source": []
  }
 ],
 "metadata": {
  "kernelspec": {
   "display_name": "Python 3",
   "language": "python",
   "name": "python3"
  },
  "language_info": {
   "codemirror_mode": {
    "name": "ipython",
    "version": 3
   },
   "file_extension": ".py",
   "mimetype": "text/x-python",
   "name": "python",
   "nbconvert_exporter": "python",
   "pygments_lexer": "ipython3",
   "version": "3.6.3"
  }
 },
 "nbformat": 4,
 "nbformat_minor": 2
}
