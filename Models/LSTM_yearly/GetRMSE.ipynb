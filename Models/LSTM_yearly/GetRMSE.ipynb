{
 "cells": [
  {
   "cell_type": "code",
   "execution_count": 7,
   "metadata": {
    "collapsed": true
   },
   "outputs": [],
   "source": [
    "import pandas as pd\n",
    "import os\n"
   ]
  },
  {
   "cell_type": "code",
   "execution_count": 8,
   "metadata": {},
   "outputs": [],
   "source": [
    "comparisonCsv = pd.DataFrame(columns=[\"Country\", \"Cumulative RMSE\", \"AvgRMSE\", \"OBS\"])\n",
    "for country in [\"Brazil\", \"Colombia\", \"Mexico\"]:\n",
    "    \n",
    "    statesRMSE = pd.DataFrame(columns = [\"State\", \"LSTM-RMSE\", \"OBS\"])\n",
    "    \n",
    "    RMSE = 0\n",
    "    obs = 0\n",
    "    \n",
    "    highest = None\n",
    "    lowest = None\n",
    "    for folder in os.listdir(country):\n",
    "\n",
    "        dataset = pd.read_csv(\"{0}/{1}/{1}\".format(country, folder))\n",
    "\n",
    "        dataset[\"squared_error\"] = dataset[\"error\"]**2\n",
    "\n",
    "        mean = dataset[\"squared_error\"].mean()\n",
    "        stateRMSE = mean ** (0.5)\n",
    "\n",
    "        statesRMSE = statesRMSE.append({\n",
    "            \"State\": folder,\n",
    "            \"LSTM-RMSE\" : stateRMSE,\n",
    "            \"OBS\" : len(dataset.index)\n",
    "        }, ignore_index=True)\n",
    "\n",
    "        RMSE += stateRMSE\n",
    "\n",
    "        obs += len(dataset.index)\n",
    "\n",
    "        datasetMaxError = dataset[\"error\"].max()\n",
    "        datasetMinError = dataset[\"error\"].min()\n",
    "        if(highest == None or highest < datasetMaxError):\n",
    "            highest = datasetMaxError\n",
    "\n",
    "        if(lowest == None or lowest > datasetMinError):\n",
    "            lowest = datasetMinError\n",
    "\n",
    "\n",
    "    comparisonCsv = comparisonCsv.append({\n",
    "        \"Country\" : country,\n",
    "        \"Cumulative RMSE\" : RMSE,\n",
    "        \"AvgRMSE\" : RMSE/obs,\n",
    "        \"OBS\" : obs,\n",
    "        \"HighestError\": highest,\n",
    "        \"LowestError\": lowest\n",
    "    }, ignore_index=True)\n",
    "    \n",
    "    statesRMSE.to_csv(\"{}-StatesCsv.csv\".format(country))\n",
    "    \n",
    "comparisonCsv.to_csv(\"CountryCsv.csv\")"
   ]
  },
  {
   "cell_type": "code",
   "execution_count": null,
   "metadata": {
    "collapsed": true
   },
   "outputs": [],
   "source": []
  },
  {
   "cell_type": "code",
   "execution_count": null,
   "metadata": {
    "collapsed": true
   },
   "outputs": [],
   "source": []
  }
 ],
 "metadata": {
  "kernelspec": {
   "display_name": "Python 3",
   "language": "python",
   "name": "python3"
  },
  "language_info": {
   "codemirror_mode": {
    "name": "ipython",
    "version": 3
   },
   "file_extension": ".py",
   "mimetype": "text/x-python",
   "name": "python",
   "nbconvert_exporter": "python",
   "pygments_lexer": "ipython3",
   "version": "3.6.3"
  }
 },
 "nbformat": 4,
 "nbformat_minor": 2
}
