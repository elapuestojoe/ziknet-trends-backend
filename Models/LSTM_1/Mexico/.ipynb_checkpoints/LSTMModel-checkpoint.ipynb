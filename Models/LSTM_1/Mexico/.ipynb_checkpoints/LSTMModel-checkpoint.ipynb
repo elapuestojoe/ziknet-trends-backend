{
 "cells": [
  {
   "cell_type": "code",
   "execution_count": 1,
   "metadata": {},
   "outputs": [
    {
     "name": "stderr",
     "output_type": "stream",
     "text": [
      "Using TensorFlow backend.\n"
     ]
    }
   ],
   "source": [
    "from pandas import read_csv, DataFrame, concat\n",
    "from keras import Sequential\n",
    "from keras.layers import LSTM, Dense, Dropout, TimeDistributed\n",
    "from keras.optimizers import Adam\n",
    "from keras.constraints import nonneg\n",
    "from matplotlib import pyplot\n",
    "from numpy import concatenate\n",
    "from math import sqrt\n",
    "from sklearn.metrics import mean_squared_error\n",
    "from keras.models import model_from_json\n",
    "from os.path import isfile\n",
    "import numpy as np \n",
    "import sys\n",
    "import random\n",
    "import os\n",
    "from keras.losses import logcosh"
   ]
  },
  {
   "cell_type": "code",
   "execution_count": 2,
   "metadata": {},
   "outputs": [],
   "source": [
    "def series_to_supervised(data, n_in=1, n_out=1, dropnan=True):\n",
    "    n_vars = 1 if type(data) is list else data.shape[1]\n",
    "    df = DataFrame(data)\n",
    "    cols, names = list(), list()\n",
    "    # input sequence (t-n, ... t-1)\n",
    "    for i in range(n_in, 0, -1):\n",
    "        cols.append(df.shift(i))\n",
    "        names += [('var%d(t-%d)' % (j+1, i)) for j in range(n_vars)]\n",
    "    # forecast sequence (t, t+1, ... t+n)\n",
    "    for i in range(0, n_out):\n",
    "        cols.append(df.shift(-i))\n",
    "        if i == 0:\n",
    "            names += [('var%d(t)' % (j+1)) for j in range(n_vars)]\n",
    "        else:\n",
    "            names += [('var%d(t+%d)' % (j+1, i)) for j in range(n_vars)]\n",
    "    # put it all together\n",
    "    agg = concat(cols, axis=1)\n",
    "    agg.columns = names\n",
    "    # drop rows with NaN values\n",
    "    if dropnan:\n",
    "        agg.dropna(inplace=True)\n",
    "    return agg"
   ]
  },
  {
   "cell_type": "code",
   "execution_count": 3,
   "metadata": {},
   "outputs": [],
   "source": [
    "def getXY(filename, scale):\n",
    "\n",
    "    dataset = read_csv(filename, header=0, index_col=0)\n",
    "    dataset[[\"Searches\"]] /= 100\n",
    "    dataset[[\"Cases\"]] = dataset[[\"Cases\"]].apply(lambda x: x*100000/scale, axis=1)\n",
    "\n",
    "\n",
    "    values = dataset.values.astype(\"float32\")\n",
    "    total_features = len(values[0])\n",
    "\n",
    "    n_weeks = 4\n",
    "    n_features = 2\n",
    "\n",
    "    reframed = series_to_supervised(values, n_weeks, 1)\n",
    "    values = reframed.values\n",
    "    print(\"Reframed Shape: \", reframed.shape)\n",
    "    totalFeatures = reframed.shape[1]\n",
    "    n_obs = n_weeks * n_features\n",
    "\n",
    "    x, y = values[:, :-2], values[:, -1] # Pick last week's cases as y and drop last week's \n",
    "\n",
    "    x = x.reshape((x.shape[0], n_weeks, n_features)) # Reshape as 3-D\n",
    "    return x, y"
   ]
  },
  {
   "cell_type": "code",
   "execution_count": 4,
   "metadata": {},
   "outputs": [],
   "source": [
    "def saveModel(model, modelName):\n",
    "    jsonName = \"{}.json\".format(modelName)\n",
    "    h5Name = \"{}.h5\".format(modelName)\n",
    "\n",
    "    model_json = model.to_json()\n",
    "    with open(jsonName, \"w\") as json_file:\n",
    "        json_file.write(model_json)\n",
    "    #seralize weights to HDF5\n",
    "    model.save_weights(h5Name)\n"
   ]
  },
  {
   "cell_type": "code",
   "execution_count": 12,
   "metadata": {},
   "outputs": [],
   "source": [
    "def saveModel(model, modelName):\n",
    "    jsonName = \"{}.json\".format(modelName)\n",
    "    h5Name = \"{}.h5\".format(modelName)\n",
    "\n",
    "    model_json = model.to_json()\n",
    "    with open(jsonName, \"w\") as json_file:\n",
    "        json_file.write(model_json)\n",
    "    #seralize weights to HDF5\n",
    "    model.save_weights(h5Name)"
   ]
  },
  {
   "cell_type": "code",
   "execution_count": 6,
   "metadata": {},
   "outputs": [],
   "source": [
    "def loadOrCreateModel(modelName): \n",
    "\n",
    "    jsonName = \"{}.json\".format(modelName)\n",
    "    h5Name = \"{}.h5\".format(modelName)\n",
    "\n",
    "    if(isfile(jsonName) and isfile(h5Name)):\n",
    "\n",
    "        loaded_model_json = None\n",
    "        with open(jsonName, \"r\") as json_file:\n",
    "            loaded_model_json = json_file.read()\n",
    "\n",
    "        model = model_from_json(loaded_model_json)\n",
    "        model.load_weights(h5Name)\n",
    "        model.compile(loss=[logcosh], optimizer=\"adam\", metrics=[\"mse\"])\n",
    "        return model\n",
    "    else:\n",
    "        model = Sequential()\n",
    "        model.add(LSTM(256, input_shape=(4, 2), return_sequences=True))\n",
    "        model.add(LSTM(64, activation=\"relu\", return_sequences=True))\n",
    "        model.add(LSTM(32, activation=\"relu\", return_sequences=False))\n",
    "\n",
    "        model.add(Dense(128, activation=\"relu\"))\n",
    "        model.add(Dense(1, activation='linear', kernel_constraint=nonneg()))\n",
    "        # model.add(Dense(1, activation=\"relu\", kernel_constraint=nonneg()))\n",
    "        model.compile(loss=[logcosh], optimizer=\"adam\", metrics=[\"mse\"])\n",
    "        model.summary()\n",
    "        return model"
   ]
  },
  {
   "cell_type": "code",
   "execution_count": 7,
   "metadata": {},
   "outputs": [],
   "source": []
  },
  {
   "cell_type": "code",
   "execution_count": 8,
   "metadata": {},
   "outputs": [],
   "source": [
    "#Population values\n",
    "population = {\n",
    "    \"Chiapas_2016-2018.csv\": 5217908,\n",
    "    \"Colima_2016-2018.csv\": 711235,\n",
    "    \"Guerrero_2016-2018.csv\": 3533251,\n",
    "    \"Hidalgo_2016-2018.csv\": 2858359,\n",
    "    \"NuevoLeon_2016-2018.csv\": 5119504,\n",
    "    \"Oaxaca_2016-2018.csv\": 3967889,\n",
    "    \"QuintanaRoo_2016-2018.csv\": 1501562,\n",
    "    \"Tabasco_2016-2018.csv\" : 2395272,\n",
    "    \"Veracruz_2016-2018.csv\" : 8112505,\n",
    "    \"Yucatan_2016-2018.csv\" : 2097175,\n",
    "}"
   ]
  },
  {
   "cell_type": "code",
   "execution_count": 9,
   "metadata": {},
   "outputs": [
    {
     "name": "stdout",
     "output_type": "stream",
     "text": [
      "_________________________________________________________________\n",
      "Layer (type)                 Output Shape              Param #   \n",
      "=================================================================\n",
      "lstm_1 (LSTM)                (None, 4, 256)            265216    \n",
      "_________________________________________________________________\n",
      "lstm_2 (LSTM)                (None, 4, 64)             82176     \n",
      "_________________________________________________________________\n",
      "lstm_3 (LSTM)                (None, 32)                12416     \n",
      "_________________________________________________________________\n",
      "dense_1 (Dense)              (None, 128)               4224      \n",
      "_________________________________________________________________\n",
      "dense_2 (Dense)              (None, 1)                 129       \n",
      "=================================================================\n",
      "Total params: 364,161\n",
      "Trainable params: 364,161\n",
      "Non-trainable params: 0\n",
      "_________________________________________________________________\n"
     ]
    }
   ],
   "source": [
    "model = loadOrCreateModel(\"Test1\")"
   ]
  },
  {
   "cell_type": "code",
   "execution_count": 10,
   "metadata": {},
   "outputs": [
    {
     "name": "stdout",
     "output_type": "stream",
     "text": [
      "Reframed Shape:  (119, 10)\n",
      "Epoch 1/10\n",
      "119/119 [==============================] - 23s 189ms/step - loss: 0.1180 - mean_squared_error: 0.3904\n",
      "Epoch 2/10\n",
      "119/119 [==============================] - 0s 311us/step - loss: 0.1165 - mean_squared_error: 0.3849\n",
      "Epoch 3/10\n",
      "119/119 [==============================] - 0s 311us/step - loss: 0.1155 - mean_squared_error: 0.3809\n",
      "Epoch 4/10\n",
      "119/119 [==============================] - 0s 303us/step - loss: 0.1143 - mean_squared_error: 0.3763\n",
      "Epoch 5/10\n",
      "119/119 [==============================] - 0s 303us/step - loss: 0.1130 - mean_squared_error: 0.3712\n",
      "Epoch 6/10\n",
      "119/119 [==============================] - 0s 277us/step - loss: 0.1116 - mean_squared_error: 0.3658\n",
      "Epoch 7/10\n",
      "119/119 [==============================] - 0s 303us/step - loss: 0.1102 - mean_squared_error: 0.3599\n",
      "Epoch 8/10\n",
      "119/119 [==============================] - 0s 294us/step - loss: 0.1087 - mean_squared_error: 0.3534\n",
      "Epoch 9/10\n",
      "119/119 [==============================] - 0s 294us/step - loss: 0.1070 - mean_squared_error: 0.3464\n",
      "Epoch 10/10\n",
      "119/119 [==============================] - 0s 294us/step - loss: 0.1053 - mean_squared_error: 0.3386\n",
      "Reframed Shape:  (119, 10)\n",
      "Epoch 1/10\n",
      "119/119 [==============================] - 0s 319us/step - loss: 0.0326 - mean_squared_error: 0.0781\n",
      "Epoch 2/10\n",
      "119/119 [==============================] - 0s 252us/step - loss: 0.0326 - mean_squared_error: 0.0777\n",
      "Epoch 3/10\n",
      "119/119 [==============================] - 0s 504us/step - loss: 0.0327 - mean_squared_error: 0.0774\n",
      "Epoch 4/10\n",
      "119/119 [==============================] - 0s 319us/step - loss: 0.0328 - mean_squared_error: 0.0772\n",
      "Epoch 5/10\n",
      "119/119 [==============================] - 0s 294us/step - loss: 0.0329 - mean_squared_error: 0.0770\n",
      "Epoch 6/10\n",
      "119/119 [==============================] - 0s 260us/step - loss: 0.0328 - mean_squared_error: 0.0767\n",
      "Epoch 7/10\n",
      "119/119 [==============================] - 0s 286us/step - loss: 0.0326 - mean_squared_error: 0.0762\n",
      "Epoch 8/10\n",
      "119/119 [==============================] - 0s 311us/step - loss: 0.0323 - mean_squared_error: 0.0756\n",
      "Epoch 9/10\n",
      "119/119 [==============================] - 0s 303us/step - loss: 0.0320 - mean_squared_error: 0.0749\n",
      "Epoch 10/10\n",
      "119/119 [==============================] - 0s 303us/step - loss: 0.0316 - mean_squared_error: 0.0742\n",
      "Reframed Shape:  (119, 10)\n",
      "Epoch 1/10\n",
      "119/119 [==============================] - 0s 269us/step - loss: 0.2140 - mean_squared_error: 1.3294\n",
      "Epoch 2/10\n",
      "119/119 [==============================] - 0s 294us/step - loss: 0.2120 - mean_squared_error: 1.2867\n",
      "Epoch 3/10\n",
      "119/119 [==============================] - 0s 269us/step - loss: 0.2095 - mean_squared_error: 1.2210\n",
      "Epoch 4/10\n",
      "119/119 [==============================] - 0s 311us/step - loss: 0.2073 - mean_squared_error: 1.1413\n",
      "Epoch 5/10\n",
      "119/119 [==============================] - 0s 345us/step - loss: 0.2071 - mean_squared_error: 1.0867\n",
      "Epoch 6/10\n",
      "119/119 [==============================] - 0s 336us/step - loss: 0.2072 - mean_squared_error: 1.0843\n",
      "Epoch 7/10\n",
      "119/119 [==============================] - 0s 303us/step - loss: 0.2046 - mean_squared_error: 1.0788\n",
      "Epoch 8/10\n",
      "119/119 [==============================] - 0s 311us/step - loss: 0.2009 - mean_squared_error: 1.0548\n",
      "Epoch 9/10\n",
      "119/119 [==============================] - 0s 303us/step - loss: 0.1987 - mean_squared_error: 1.0448\n",
      "Epoch 10/10\n",
      "119/119 [==============================] - 0s 303us/step - loss: 0.1964 - mean_squared_error: 1.0287\n",
      "Reframed Shape:  (119, 10)\n",
      "Epoch 1/10\n",
      "119/119 [==============================] - 0s 269us/step - loss: 0.0319 - mean_squared_error: 0.0780\n",
      "Epoch 2/10\n",
      "119/119 [==============================] - 0s 319us/step - loss: 0.0320 - mean_squared_error: 0.0781\n",
      "Epoch 3/10\n",
      "119/119 [==============================] - 0s 303us/step - loss: 0.0318 - mean_squared_error: 0.0776\n",
      "Epoch 4/10\n",
      "119/119 [==============================] - 0s 286us/step - loss: 0.0313 - mean_squared_error: 0.0765\n",
      "Epoch 5/10\n",
      "119/119 [==============================] - 0s 294us/step - loss: 0.0307 - mean_squared_error: 0.0749\n",
      "Epoch 6/10\n",
      "119/119 [==============================] - 0s 277us/step - loss: 0.0300 - mean_squared_error: 0.0731\n",
      "Epoch 7/10\n",
      "119/119 [==============================] - 0s 336us/step - loss: 0.0295 - mean_squared_error: 0.0714\n",
      "Epoch 8/10\n",
      "119/119 [==============================] - 0s 303us/step - loss: 0.0290 - mean_squared_error: 0.0701\n",
      "Epoch 9/10\n",
      "119/119 [==============================] - 0s 286us/step - loss: 0.0288 - mean_squared_error: 0.0692\n",
      "Epoch 10/10\n",
      "119/119 [==============================] - 0s 303us/step - loss: 0.0286 - mean_squared_error: 0.0686\n",
      "Reframed Shape:  (119, 10)\n",
      "Epoch 1/10\n",
      "119/119 [==============================] - 0s 269us/step - loss: 0.0518 - mean_squared_error: 0.1242\n",
      "Epoch 2/10\n",
      "119/119 [==============================] - 0s 353us/step - loss: 0.0512 - mean_squared_error: 0.1221\n",
      "Epoch 3/10\n",
      "119/119 [==============================] - 0s 479us/step - loss: 0.0507 - mean_squared_error: 0.1205\n",
      "Epoch 4/10\n",
      "119/119 [==============================] - 0s 437us/step - loss: 0.0500 - mean_squared_error: 0.1187\n",
      "Epoch 5/10\n",
      "119/119 [==============================] - 0s 336us/step - loss: 0.0490 - mean_squared_error: 0.1166\n",
      "Epoch 6/10\n",
      "119/119 [==============================] - 0s 303us/step - loss: 0.0482 - mean_squared_error: 0.1147\n",
      "Epoch 7/10\n",
      "119/119 [==============================] - 0s 319us/step - loss: 0.0475 - mean_squared_error: 0.1133\n",
      "Epoch 8/10\n",
      "119/119 [==============================] - 0s 303us/step - loss: 0.0469 - mean_squared_error: 0.1122\n",
      "Epoch 9/10\n",
      "119/119 [==============================] - 0s 277us/step - loss: 0.0463 - mean_squared_error: 0.1106\n",
      "Epoch 10/10\n",
      "119/119 [==============================] - 0s 319us/step - loss: 0.0456 - mean_squared_error: 0.1085\n",
      "Reframed Shape:  (119, 10)\n",
      "Epoch 1/10\n",
      "119/119 [==============================] - 0s 303us/step - loss: 0.0185 - mean_squared_error: 0.0397\n",
      "Epoch 2/10\n",
      "119/119 [==============================] - 0s 286us/step - loss: 0.0187 - mean_squared_error: 0.0399\n",
      "Epoch 3/10\n",
      "119/119 [==============================] - 0s 378us/step - loss: 0.0188 - mean_squared_error: 0.0400\n",
      "Epoch 4/10\n",
      "119/119 [==============================] - 0s 345us/step - loss: 0.0187 - mean_squared_error: 0.0399\n",
      "Epoch 5/10\n",
      "119/119 [==============================] - 0s 353us/step - loss: 0.0185 - mean_squared_error: 0.0395\n",
      "Epoch 6/10\n",
      "119/119 [==============================] - 0s 345us/step - loss: 0.0183 - mean_squared_error: 0.0391\n",
      "Epoch 7/10\n",
      "119/119 [==============================] - 0s 370us/step - loss: 0.0180 - mean_squared_error: 0.0385\n",
      "Epoch 8/10\n",
      "119/119 [==============================] - 0s 286us/step - loss: 0.0177 - mean_squared_error: 0.0380\n",
      "Epoch 9/10\n",
      "119/119 [==============================] - 0s 345us/step - loss: 0.0175 - mean_squared_error: 0.0376\n",
      "Epoch 10/10\n",
      "119/119 [==============================] - 0s 261us/step - loss: 0.0173 - mean_squared_error: 0.0371\n",
      "Reframed Shape:  (119, 10)\n",
      "Epoch 1/10\n",
      "119/119 [==============================] - 0s 294us/step - loss: 0.0099 - mean_squared_error: 0.0208\n",
      "Epoch 2/10\n",
      "119/119 [==============================] - 0s 294us/step - loss: 0.0096 - mean_squared_error: 0.0201\n",
      "Epoch 3/10\n",
      "119/119 [==============================] - 0s 294us/step - loss: 0.0092 - mean_squared_error: 0.0191\n",
      "Epoch 4/10\n",
      "119/119 [==============================] - 0s 319us/step - loss: 0.0087 - mean_squared_error: 0.0180\n",
      "Epoch 5/10\n",
      "119/119 [==============================] - 0s 370us/step - loss: 0.0082 - mean_squared_error: 0.0171\n",
      "Epoch 6/10\n",
      "119/119 [==============================] - 0s 403us/step - loss: 0.0079 - mean_squared_error: 0.0163\n",
      "Epoch 7/10\n",
      "119/119 [==============================] - 0s 454us/step - loss: 0.0078 - mean_squared_error: 0.0160\n",
      "Epoch 8/10\n",
      "119/119 [==============================] - 0s 429us/step - loss: 0.0079 - mean_squared_error: 0.0162\n",
      "Epoch 9/10\n",
      "119/119 [==============================] - 0s 361us/step - loss: 0.0082 - mean_squared_error: 0.0167\n",
      "Epoch 10/10\n",
      "119/119 [==============================] - 0s 311us/step - loss: 0.0084 - mean_squared_error: 0.0172\n"
     ]
    }
   ],
   "source": [
    "for file in train_files:\n",
    "    x,y = getXY(\"{}/{}\".format(dataFolder, file), population[file])\n",
    "    model.fit(x, y,\n",
    "             epochs = 10,\n",
    "             batch_size=x.shape[0],\n",
    "             verbose=1, \n",
    "             shuffle=False)\n",
    "    \n"
   ]
  },
  {
   "cell_type": "code",
   "execution_count": 11,
   "metadata": {},
   "outputs": [
    {
     "name": "stdout",
     "output_type": "stream",
     "text": [
      "Reframed Shape:  (119, 10)\n",
      "Test RMSE: 10.167\n",
      "Total [ 279.99999761]\n",
      "len 119\n"
     ]
    },
    {
     "data": {
      "image/png": "[encoded data removed]",
      "text/plain": [
       "<matplotlib.figure.Figure at 0x21e8d682fd0>"
      ]
     },
     "metadata": {},
     "output_type": "display_data"
    },
    {
     "name": "stdout",
     "output_type": "stream",
     "text": [
      "Reframed Shape:  (119, 10)\n",
      "Test RMSE: 41.297\n",
      "Total [ 883.99999111]\n",
      "len 119\n"
     ]
    },
    {
     "data": {
      "image/png": "[encoded data removed]",
      "text/plain": [
       "<matplotlib.figure.Figure at 0x2203e1047f0>"
      ]
     },
     "metadata": {},
     "output_type": "display_data"
    },
    {
     "name": "stdout",
     "output_type": "stream",
     "text": [
      "Reframed Shape:  (119, 10)\n",
      "Test RMSE: 33.492\n",
      "Total [ 1989.99999691]\n",
      "len 119\n"
     ]
    },
    {
     "data": {
      "image/png": "[encoded data removed]",
      "text/plain": [
       "<matplotlib.figure.Figure at 0x2203e18f160>"
      ]
     },
     "metadata": {},
     "output_type": "display_data"
    }
   ],
   "source": [
    "#Evaluate model\n",
    "for file in test_files:\n",
    "    x, y = getXY(\"{}/{}\".format(dataFolder, file), population[file])\n",
    "    predictions = model.predict(x)\n",
    "    y = y.reshape((len(y), 1))\n",
    "    \n",
    "    inv_yPred = np.apply_along_axis(lambda x: x * population[file] / 100000, 1, predictions)\n",
    "    inv_y = np.apply_along_axis(lambda x: x * population[file] / 100000, 1, y)\n",
    "    \n",
    "    rmse = sqrt(mean_squared_error(inv_y, inv_yPred))\n",
    "    \n",
    "    print('Test RMSE: %.3f' % rmse)\n",
    "    print(\"Total\", sum(inv_y))\n",
    "    print(\"len\", len(inv_y))\n",
    "    pyplot.title(\"Cases {} RMSE: {:.2f}\".format(file, rmse))\n",
    "    pyplot.ylabel(\"Cases\")\n",
    "    pyplot.xlabel(\"Week #\")\n",
    "    pyplot.plot(inv_y, label=\"Cases\")\n",
    "    pyplot.plot(inv_yPred, label=\"Predictions\")\n",
    "    pyplot.legend()\n",
    "    pyplot.show()"
   ]
  },
  {
   "cell_type": "code",
   "execution_count": 13,
   "metadata": {},
   "outputs": [],
   "source": [
    "saveModel(model, \"Ex1/model\")"
   ]
  },
  {
   "cell_type": "code",
   "execution_count": 26,
   "metadata": {},
   "outputs": [],
   "source": [
    "def ExportPredictions(model, folder, test_files):\n",
    "    for file in test_files:\n",
    "        outputName = \"Predictions-{}\".format(file)\n",
    "        x, y = getXY(\"{}/{}\".format(dataFolder, file), population[file])\n",
    "        with open(\"{}/{}\".format(folder, outputName), \"w\") as outputFile:\n",
    "            outputFile.write(\"Value,Prediction,Error\\n\")\n",
    "            predictions = model.predict(x)\n",
    "            y = y.reshape((len(y), 1))\n",
    "            inv_yPred = np.apply_along_axis(lambda x: x * population[file] / 100000, 1, predictions)\n",
    "            inv_y = np.apply_along_axis(lambda x: x * population[file] / 100000, 1, y)\n",
    "            for i in range(len(inv_yPred)):\n",
    "                yPred = float(inv_yPred[i])\n",
    "                yReal = float(inv_y[i])\n",
    "                outputFile.write(\"{},{},{}\\n\".format(yReal, yPred, yPred-yReal))"
   ]
  },
  {
   "cell_type": "code",
   "execution_count": 27,
   "metadata": {},
   "outputs": [
    {
     "name": "stdout",
     "output_type": "stream",
     "text": [
      "Reframed Shape:  (119, 10)\n",
      "Reframed Shape:  (119, 10)\n",
      "Reframed Shape:  (119, 10)\n"
     ]
    }
   ],
   "source": [
    "ExportPredictions(model, \"Ex1\", test_files)"
   ]
  },
  {
   "cell_type": "code",
   "execution_count": null,
   "metadata": {},
   "outputs": [],
   "source": [
    "for i in range(10):\n",
    "    #Splits the files into 7-Train 3-Test\n",
    "    dataFolder = \"../../../data/Mexico/processed_data\"\n",
    "    files = os.listdir(dataFolder)\n",
    "    train_files = random.sample(files, 7)\n",
    "    test_files = list(filter(lambda x: x not in train_files, files))"
   ]
  }
 ],
 "metadata": {
  "kernelspec": {
   "display_name": "Python 3",
   "language": "python",
   "name": "python3"
  },
  "language_info": {
   "codemirror_mode": {
    "name": "ipython",
    "version": 3
   },
   "file_extension": ".py",
   "mimetype": "text/x-python",
   "name": "python",
   "nbconvert_exporter": "python",
   "pygments_lexer": "ipython3",
   "version": "3.6.4"
  }
 },
 "nbformat": 4,
 "nbformat_minor": 2
}
