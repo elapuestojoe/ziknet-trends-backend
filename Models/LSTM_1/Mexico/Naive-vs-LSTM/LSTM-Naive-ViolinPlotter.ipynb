{
 "cells": [
  {
   "cell_type": "code",
   "execution_count": 73,
   "metadata": {},
   "outputs": [],
   "source": [
    "import seaborn as sns\n",
    "import pandas as pd\n",
    "import os\n",
    "from matplotlib import pyplot\n",
    "sns.set_style(\"whitegrid\")\n",
    "%matplotlib inline"
   ]
  },
  {
   "cell_type": "code",
   "execution_count": 74,
   "metadata": {},
   "outputs": [],
   "source": [
    "def PlotErrors(folder):\n",
    "    dataset = pd.read_csv(\"{}/LSTM-Naive.csv\".format(folder))\n",
    "    pyplot.clf()\n",
    "    ax = sns.violinplot(x=\"State\",\n",
    "                         y=\"Error\",\n",
    "                         hue=\"Model\",\n",
    "                         data=dataset,\n",
    "                         palette=\"muted\",\n",
    "                         split=False)\n",
    "    pyplot.savefig('{}/{}.png'.format(folder, \"violinplots\"))"
   ]
  },
  {
   "cell_type": "code",
   "execution_count": 75,
   "metadata": {
    "scrolled": true
   },
   "outputs": [
    {
     "name": "stdout",
     "output_type": "stream",
     "text": [
      "Chiapas\n",
      "Guerrero\n",
      "QuintanaRoo\n",
      "Guerrero\n",
      "QuintanaRoo\n",
      "Tabasco\n",
      "Hidalgo\n",
      "Tabasco\n",
      "Yucatan\n",
      "NuevoLeon\n",
      "QuintanaRoo\n",
      "Yucatan\n",
      "Colima\n",
      "Oaxaca\n",
      "Veracruz\n",
      "Chiapas\n",
      "Oaxaca\n",
      "Tabasco\n",
      "Colima\n",
      "Tabasco\n",
      "Veracruz\n",
      "Oaxaca\n",
      "Tabasco\n",
      "Veracruz\n",
      "NuevoLeon\n",
      "Oaxaca\n",
      "Tabasco\n",
      "Hidalgo\n",
      "Oaxaca\n",
      "Yucatan\n"
     ]
    }
   ],
   "source": [
    "for i in range(10):\n",
    "#     os.mkdir(\"{}\".format(i))\n",
    "    files = list(filter(lambda x: \".csv\" in x, os.listdir(\"../Experiments/{}\".format(i))))\n",
    "    with open(\"{}/LSTM-Naive.csv\".format(i), \"w\") as outputFile:\n",
    "        outputFile.write(\"State,Model,Error\\n\")\n",
    "        for file in files:\n",
    "            newFile = file.replace(\"Predictions-\", \"Naive_\")\n",
    "\n",
    "            LSTMFile = pd.read_csv(\"../Experiments/{}/{}\".format(i, file))[\"Error\"].values\n",
    "            NaiveFile = pd.read_csv(\"../../../Naive/Mexico/{}\".format(newFile))[\"Error\"].values[4:]\n",
    "            state = file.replace(\"Predictions-\", \"\").replace(\"_2016-2018.csv\", \"\")\n",
    "\n",
    "            for j in range(len(LSTMFile)):\n",
    "                outputFile.write(\"{},LSTM,{}\\n\".format(state, float(LSTMFile[j])))\n",
    "            for j in range(len(NaiveFile)):\n",
    "                outputFile.write(\"{},Naive,{}\\n\".format(state, float(NaiveFile[j])))"
   ]
  },
  {
   "cell_type": "code",
   "execution_count": 77,
   "metadata": {},
   "outputs": [
    {
     "data": {
      "image/png": "[encoded data removed]",
      "text/plain": [
       "<matplotlib.figure.Figure at 0x29c1b8f6748>"
      ]
     },
     "metadata": {},
     "output_type": "display_data"
    }
   ],
   "source": [
    "for i in range(10):\n",
    "    PlotErrors(\"{}\".format(i))"
   ]
  },
  {
   "cell_type": "code",
   "execution_count": null,
   "metadata": {},
   "outputs": [],
   "source": []
  }
 ],
 "metadata": {
  "kernelspec": {
   "display_name": "Python 3",
   "language": "python",
   "name": "python3"
  },
  "language_info": {
   "codemirror_mode": {
    "name": "ipython",
    "version": 3
   },
   "file_extension": ".py",
   "mimetype": "text/x-python",
   "name": "python",
   "nbconvert_exporter": "python",
   "pygments_lexer": "ipython3",
   "version": "3.6.4"
  }
 },
 "nbformat": 4,
 "nbformat_minor": 2
}
