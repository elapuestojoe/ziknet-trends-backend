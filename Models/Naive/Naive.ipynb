{
 "cells": [
  {
   "cell_type": "code",
   "execution_count": 2,
   "metadata": {
    "collapsed": true
   },
   "outputs": [],
   "source": [
    "import pandas as pd\n",
    "import matplotlib.pyplot as plt\n",
    "import os\n",
    "%matplotlib inline"
   ]
  },
  {
   "cell_type": "code",
   "execution_count": 4,
   "metadata": {
    "collapsed": true
   },
   "outputs": [],
   "source": [
    "for country in [\"Mexico\", \"Brazil\", \"Colombia\"]:\n",
    "    folder = \"../../data/{}/processed_data\".format(country)\n",
    "    files = os.listdir(folder)\n",
    "    for file in files:\n",
    "        dataset = pd.read_csv(\"{}/{}\".format(folder, file))\n",
    "        dataset[\"Predictions\"] = dataset[\"Cases\"][:-1].shift(1)\n",
    "        dataset[\"error\"] = dataset[\"Predictions\"] - dataset[\"Cases\"]\n",
    "        \n",
    "        if(not os.path.isdir(\"{}/{}\".format(country, file))):\n",
    "            os.mkdir(\"{}/{}\".format(country, file))\n",
    "            \n",
    "        plt.clf()\n",
    "        dataset[[\"Predictions\", \"Cases\"]].plot(figsize=(10, 10))\n",
    "        plt.title(file)\n",
    "        plt.xlabel(\"Week\")\n",
    "        plt.ylabel(\"Cases\")\n",
    "        fig = plt.gcf()\n",
    "        fig.savefig(\"{}/{}/Obs-Pred.png\".format(country, file))\n",
    "        plt.close(\"all\")\n",
    "        \n",
    "        dataset.to_csv(\"{}/{}/Predictions.csv\".format(country, file))"
   ]
  },
  {
   "cell_type": "code",
   "execution_count": null,
   "metadata": {
    "collapsed": true
   },
   "outputs": [],
   "source": []
  }
 ],
 "metadata": {
  "kernelspec": {
   "display_name": "Python 3",
   "language": "python",
   "name": "python3"
  },
  "language_info": {
   "codemirror_mode": {
    "name": "ipython",
    "version": 3
   },
   "file_extension": ".py",
   "mimetype": "text/x-python",
   "name": "python",
   "nbconvert_exporter": "python",
   "pygments_lexer": "ipython3",
   "version": "3.6.3"
  }
 },
 "nbformat": 4,
 "nbformat_minor": 2
}
