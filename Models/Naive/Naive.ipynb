{
 "cells": [
  {
   "cell_type": "code",
   "execution_count": 26,
   "metadata": {
    "collapsed": true
   },
   "outputs": [],
   "source": [
    "import pandas as pd\n",
    "import matplotlib.pyplot as plt\n",
    "import os"
   ]
  },
  {
   "cell_type": "code",
   "execution_count": 27,
   "metadata": {
    "collapsed": true
   },
   "outputs": [],
   "source": [
    "def formatFilename(filename):\n",
    "    return filename.replace(\".csv\", \"\")"
   ]
  },
  {
   "cell_type": "code",
   "execution_count": 28,
   "metadata": {},
   "outputs": [],
   "source": [
    "for country in [\"Mexico\", \"Brazil\", \"Colombia\"]:\n",
    "    folder = \"../../data/{}/processed_data\".format(country)\n",
    "    files = os.listdir(folder)\n",
    "    for file in files:\n",
    "        \n",
    "        inputDataset = pd.read_csv(\"{}/{}\".format(folder, file), index_col=0)\n",
    "        \n",
    "        dataset = pd.DataFrame(inputDataset[52:])\n",
    "        dataset.rename(index=str, columns={\"Cases\": \"Observed\"}, inplace=True)\n",
    "        dataset.drop(\"Searches\", axis=1, inplace=True)\n",
    "        \n",
    "        dataset[\"Predicted\"] = inputDataset[\"Cases\"].values[51:-1]\n",
    "        dataset[\"error\"] = dataset[\"Predicted\"] - dataset[\"Observed\"]\n",
    "        \n",
    "        if(not os.path.isdir(\"{}/{}\".format(country, file))):\n",
    "            os.mkdir(\"{}/{}\".format(country, file))\n",
    "        \n",
    "        formattedFilename = formatFilename(file)\n",
    "        plt.clf()\n",
    "        \n",
    "        cols = ['Observed', 'Predicted']\n",
    "        colors = ['#2962FF', '#F44336']\n",
    "        \n",
    "        dataset[cols].plot(\n",
    "            figsize=(10, 10),\n",
    "            grid=True,\n",
    "            color=colors\n",
    "        )\n",
    "        ax = plt.gca()\n",
    "        ax.set_facecolor((0.9, 0.9, 0.9, 0.7))\n",
    "        plt.title(\"Naive Model\\n{}\".format(formattedFilename))\n",
    "        plt.xlabel(\"Date\")\n",
    "        plt.ylabel(\"ZIKV Cases\")\n",
    "        plt.grid(linestyle='dashed', linewidth=1.5)\n",
    "        fig = plt.gcf()\n",
    "        fig.savefig(\"{}/{}/Naive-{}.png\".format(country, file, formattedFilename))\n",
    "        plt.close(\"all\")\n",
    "\n",
    "        dataset.to_csv(\"{}/{}/Naive-{}.csv\".format(country, file, formattedFilename))"
   ]
  },
  {
   "cell_type": "code",
   "execution_count": null,
   "metadata": {
    "collapsed": true
   },
   "outputs": [],
   "source": []
  }
 ],
 "metadata": {
  "kernelspec": {
   "display_name": "Python 3",
   "language": "python",
   "name": "python3"
  },
  "language_info": {
   "codemirror_mode": {
    "name": "ipython",
    "version": 3
   },
   "file_extension": ".py",
   "mimetype": "text/x-python",
   "name": "python",
   "nbconvert_exporter": "python",
   "pygments_lexer": "ipython3",
   "version": "3.6.3"
  }
 },
 "nbformat": 4,
 "nbformat_minor": 2
}
