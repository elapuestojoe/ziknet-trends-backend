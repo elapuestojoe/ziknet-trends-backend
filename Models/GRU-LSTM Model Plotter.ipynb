{
 "cells": [
  {
   "cell_type": "code",
   "execution_count": 1,
   "metadata": {},
   "outputs": [
    {
     "name": "stderr",
     "output_type": "stream",
     "text": [
      "Using TensorFlow backend.\n"
     ]
    }
   ],
   "source": [
    "from keras.utils import plot_model\n",
    "from keras.models import model_from_json"
   ]
  },
  {
   "cell_type": "code",
   "execution_count": 2,
   "metadata": {
    "collapsed": true
   },
   "outputs": [],
   "source": [
    "def loadModel(folder):\n",
    "    json_file = open('{}/Brazil/Model.json'.format(folder, 'r'))\n",
    "    loaded_model_json = json_file.read()\n",
    "    json_file.close()\n",
    "    loaded_model = model_from_json(loaded_model_json)\n",
    "    return loaded_model\n",
    "#     loaded_model.load_weights(\"{}/Brazil/model.h5\")"
   ]
  },
  {
   "cell_type": "code",
   "execution_count": 8,
   "metadata": {},
   "outputs": [],
   "source": [
    "for i in range(1,6):\n",
    "    LSTMFolder = \"LSTM_{}Week\".format(i)\n",
    "    GRUFolder = \"GRU_{}Week\".format(i)\n",
    "    \n",
    "    LSTMModel = loadModel(LSTMFolder)\n",
    "    plot_model(LSTMModel, to_file='{0}/{0}.png'.format(LSTMFolder), show_shapes=True)\n",
    "    \n",
    "    GRUModel = loadModel(GRUFolder)\n",
    "    plot_model(GRUModel, to_file='{0}/{0}.png'.format(GRUFolder), show_shapes=True)\n",
    "    \n",
    "#Plot yearly model\n",
    "json_file = open('LSTM_yearly/Brazil/Bahia_2016-2017.csv/Model.json', 'r')\n",
    "loaded_model_json = json_file.read()\n",
    "json_file.close()\n",
    "loaded_model = model_from_json(loaded_model_json)\n",
    "plot_model(loaded_model, to_file=\"{0}/{0}.png\".format(\"LSTM_yearly\"), show_shapes=True)"
   ]
  },
  {
   "cell_type": "code",
   "execution_count": null,
   "metadata": {
    "collapsed": true
   },
   "outputs": [],
   "source": []
  }
 ],
 "metadata": {
  "kernelspec": {
   "display_name": "Python 3",
   "language": "python",
   "name": "python3"
  },
  "language_info": {
   "codemirror_mode": {
    "name": "ipython",
    "version": 3
   },
   "file_extension": ".py",
   "mimetype": "text/x-python",
   "name": "python",
   "nbconvert_exporter": "python",
   "pygments_lexer": "ipython3",
   "version": "3.6.3"
  }
 },
 "nbformat": 4,
 "nbformat_minor": 2
}
