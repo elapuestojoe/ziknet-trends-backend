{
 "cells": [
  {
   "cell_type": "code",
   "execution_count": 1,
   "metadata": {
    "collapsed": true
   },
   "outputs": [],
   "source": [
    "from pytrends.request import TrendReq\n",
    "import datetime\n",
    "\n",
    "# Login to Google. Only need to run this once, the rest of requests will use the same session.\n",
    "pytrend = TrendReq()"
   ]
  },
  {
   "cell_type": "code",
   "execution_count": 7,
   "metadata": {
    "collapsed": true
   },
   "outputs": [],
   "source": [
    "def getWeeks():\n",
    "\n",
    "    dStart = input(\"Enter date of start epidemiological week in DD-MM-YYYY format: \")\n",
    "    dStart = [int(i) for i in dStart.split(\"-\")]\n",
    "    start = datetime.datetime(dStart[2],dStart[1],dStart[0])\n",
    "    \n",
    "    dEnd = input(\"Enter date of end epidemiological week in DD-MM-YYYY format: \")\n",
    "    dEnd = [int(i) for i in dEnd.split(\"-\")]\n",
    "    end = datetime.datetime(dEnd[2],dEnd[1],dEnd[0])\n",
    "    \n",
    "    nextWeek = getNextWeek(start)\n",
    "    weeks = [start]\n",
    "    \n",
    "    while nextWeek <= end:\n",
    "        if(nextWeek < datetime.datetime.today()):\n",
    "            weeks.append(nextWeek)\n",
    "            nextWeek = getNextWeek(nextWeek)\n",
    "    \n",
    "    return start, end"
   ]
  },
  {
   "cell_type": "code",
   "execution_count": 9,
   "metadata": {
    "collapsed": true
   },
   "outputs": [],
   "source": [
    "def getNextWeek(timeframe):\n",
    "    return timeframe+datetime.timedelta(days=7)"
   ]
  },
  {
   "cell_type": "code",
   "execution_count": 10,
   "metadata": {
    "collapsed": true
   },
   "outputs": [],
   "source": [
    "def getYMD(timeframe):\n",
    "    return \"{}/{}/{}\".format(timeframe.day,timeframe.month,timeframe.year)"
   ]
  },
  {
   "cell_type": "code",
   "execution_count": 3,
   "metadata": {},
   "outputs": [
    {
     "name": "stdout",
     "output_type": "stream",
     "text": [
      "Enter country code: CO\n"
     ]
    }
   ],
   "source": [
    "countryCode = input(\"Enter country code: \")"
   ]
  },
  {
   "cell_type": "code",
   "execution_count": 8,
   "metadata": {},
   "outputs": [
    {
     "name": "stdout",
     "output_type": "stream",
     "text": [
      "Enter date of start epidemiological week in DD-MM-YYYY format: 04-01-2016\n",
      "Enter date of end epidemiological week in DD-MM-YYYY format: 01-01-2017\n"
     ]
    }
   ],
   "source": [
    "weeks = getWeeks()"
   ]
  },
  {
   "cell_type": "code",
   "execution_count": null,
   "metadata": {
    "collapsed": true
   },
   "outputs": [],
   "source": [
    "with open(\"{}.csv\".format(countryCode), \"w\") as file:\n",
    "    weekEpiArray = []\n",
    "    cities = {}\n",
    "    file.write(\"CITY,\")\n",
    "    file.write(\",\".join(map(getYMD, weeks))+\"\\n\")"
   ]
  }
 ],
 "metadata": {
  "kernelspec": {
   "display_name": "Python 3",
   "language": "python",
   "name": "python3"
  },
  "language_info": {
   "codemirror_mode": {
    "name": "ipython",
    "version": 3
   },
   "file_extension": ".py",
   "mimetype": "text/x-python",
   "name": "python",
   "nbconvert_exporter": "python",
   "pygments_lexer": "ipython3",
   "version": "3.6.3"
  }
 },
 "nbformat": 4,
 "nbformat_minor": 2
}
