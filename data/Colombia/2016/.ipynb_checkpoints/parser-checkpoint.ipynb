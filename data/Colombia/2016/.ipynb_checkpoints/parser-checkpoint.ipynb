{
 "cells": [
  {
   "cell_type": "code",
   "execution_count": 4,
   "metadata": {
    "collapsed": true
   },
   "outputs": [],
   "source": [
    "import pandas\n",
    "\n",
    "folder = \"excel_files\""
   ]
  },
  {
   "cell_type": "code",
   "execution_count": 7,
   "metadata": {
    "collapsed": true
   },
   "outputs": [],
   "source": [
    "states = {\n",
    "    \"SantanderNorte\" : \n",
    "        [\"NORTEDESANTANDER\", \"NORTESANTANDER\"]\n",
    "}\n",
    "."
   ]
  },
  {
   "cell_type": "code",
   "execution_count": 10,
   "metadata": {},
   "outputs": [
    {
     "name": "stdout",
     "output_type": "stream",
     "text": [
      "Enter first epi week number to parse [1-52]1\n",
      "Enter last epi week number to parse [1-52]3\n",
      "Enter state keySantanderNorte\n"
     ]
    }
   ],
   "source": [
    "firstWeek = int(input(\"Enter first epi week number to parse [1-52]\"))\n",
    "lastWeek = int(input(\"Enter last epi week number to parse [1-52]\"))\n",
    "stateKey = input(\"Enter state key\")"
   ]
  },
  {
   "cell_type": "code",
   "execution_count": 19,
   "metadata": {},
   "outputs": [],
   "source": [
    "def loadFile(filename):\n",
    "    excelFile = pandas.read_excel(\n",
    "        io = filename, \n",
    "        header = 0,\n",
    "        skip_footer = 1,\n",
    "        thousands = \" \",\n",
    "        index_col = 0)[\"Total\"]\n",
    "    return excelFile"
   ]
  },
  {
   "cell_type": "code",
   "execution_count": 22,
   "metadata": {
    "collapsed": true
   },
   "outputs": [],
   "source": [
    "def validateFile(excelFile, stateKey):\n",
    "    columns = excelFile.index\n",
    "    columnsDiccionary = {}\n",
    "    for column in columns:\n",
    "        parsedColumn = column.strip().replace(\" \", \"\").replace(\"\\n\", \"\").upper()\n",
    "        columnsDiccionary[parsedColumn] = excelFile[column]\n",
    "   \n",
    "    for stateName in states[stateKey]:\n",
    "        if(stateName in columnsDiccionary):\n",
    "            return columnsDiccionary[stateName]\n",
    "    return False\n"
   ]
  },
  {
   "cell_type": "code",
   "execution_count": 30,
   "metadata": {},
   "outputs": [],
   "source": [
    "outputFileName = \"parsedFiles/{}.csv\".format(stateKey)\n",
    "with open(outputFileName, 'w') as csvfile:\n",
    "    csvfile.write(\"Week,Cases\\n\")\n",
    "    try : \n",
    "        for i in range(firstWeek, lastWeek + 1):\n",
    "            excelFile = loadFile(\"{}/Epi-{}.xlsx\".format(folder, i))\n",
    "\n",
    "            value = int(validateFile(excelFile, stateKey))\n",
    "            csvfile.write(\"{},{}\\n\".format(i, value))\n",
    "    except: \n",
    "        print(\"Error in Epi week, check before proceeding: \", i)"
   ]
  },
  {
   "cell_type": "code",
   "execution_count": null,
   "metadata": {
    "collapsed": true
   },
   "outputs": [],
   "source": []
  }
 ],
 "metadata": {
  "kernelspec": {
   "display_name": "Python 3",
   "language": "python",
   "name": "python3"
  },
  "language_info": {
   "codemirror_mode": {
    "name": "ipython",
    "version": 3
   },
   "file_extension": ".py",
   "mimetype": "text/x-python",
   "name": "python",
   "nbconvert_exporter": "python",
   "pygments_lexer": "ipython3",
   "version": "3.6.3"
  }
 },
 "nbformat": 4,
 "nbformat_minor": 2
}
