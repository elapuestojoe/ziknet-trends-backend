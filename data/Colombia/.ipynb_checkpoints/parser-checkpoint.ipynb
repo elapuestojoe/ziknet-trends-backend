{
 "cells": [
  {
   "cell_type": "code",
   "execution_count": 5,
   "metadata": {
    "collapsed": true
   },
   "outputs": [],
   "source": [
    "import pandas\n",
    "\n",
    "folder = \"excel_files\""
   ]
  },
  {
   "cell_type": "code",
   "execution_count": 6,
   "metadata": {
    "collapsed": true
   },
   "outputs": [],
   "source": [
    "states = {\n",
    "    \"SantanderNorte\" : \n",
    "        [\"NORTEDESANTANDER\", \"NORTESANTANDER\", \"NTESANTANDER\"],\n",
    "    \"Cundinamarca\" : \n",
    "        [\"CUNDINAMARCA\"],\n",
    "    \"ValleDelCauca\" :\n",
    "        [\"VALLEDELCAUCA\", \"VALLE\", \"VALLEDECAUCA\"],\n",
    "    \"Santander\" : \n",
    "        [\"SANTANDER\"],\n",
    "    \"Tolima\" : \n",
    "        [\"TOLIMA\"],\n",
    "    \"Huila\" : \n",
    "        [\"HUILA\"],\n",
    "    \"Barranquilla\" :\n",
    "        [\"BARRANQUILLA\"],\n",
    "}"
   ]
  },
  {
   "cell_type": "code",
   "execution_count": 7,
   "metadata": {},
   "outputs": [
    {
     "name": "stdout",
     "output_type": "stream",
     "text": [
      "Enter year that you wish to parse2015\n",
      "Enter first epi week number to parse [1-52]44\n",
      "Enter last epi week number to parse [1-52]52\n",
      "Enter state keySantanderNortew\n"
     ]
    }
   ],
   "source": [
    "year = input(\"Enter year that you wish to parse\")\n",
    "firstWeek = int(input(\"Enter first epi week number to parse [1-52]\"))\n",
    "lastWeek = int(input(\"Enter last epi week number to parse [1-52]\"))\n",
    "stateKey = input(\"Enter state key\")"
   ]
  },
  {
   "cell_type": "code",
   "execution_count": 8,
   "metadata": {
    "collapsed": true
   },
   "outputs": [],
   "source": [
    "def loadFile(filename):\n",
    "    excelFile = pandas.read_excel(\n",
    "        io = filename, \n",
    "        header = 0,\n",
    "        skip_footer = 1,\n",
    "        thousands = \" \",\n",
    "        index_col = 0)[\"Total\"]\n",
    "    return excelFile"
   ]
  },
  {
   "cell_type": "code",
   "execution_count": 9,
   "metadata": {
    "collapsed": true
   },
   "outputs": [],
   "source": [
    "def validateFile(excelFile, stateKey):\n",
    "    columns = excelFile.index\n",
    "    columnsDiccionary = {}\n",
    "    for column in columns:\n",
    "        parsedColumn = column.strip().replace(\" \", \"\").replace(\"\\n\", \"\").upper()\n",
    "        columnsDiccionary[parsedColumn] = excelFile[column]\n",
    "   \n",
    "    for stateName in states[stateKey]:\n",
    "        if(stateName in columnsDiccionary):\n",
    "            return columnsDiccionary[stateName]\n",
    "    return False\n"
   ]
  },
  {
   "cell_type": "code",
   "execution_count": 11,
   "metadata": {},
   "outputs": [
    {
     "ename": "NameError",
     "evalue": "name 'e' is not defined",
     "output_type": "error",
     "traceback": [
      "\u001b[1;31m---------------------------------------------------------------------------\u001b[0m",
      "\u001b[1;31mKeyError\u001b[0m                                  Traceback (most recent call last)",
      "\u001b[1;32m<ipython-input-11-fc37ee7e0c25>\u001b[0m in \u001b[0;36m<module>\u001b[1;34m()\u001b[0m\n\u001b[0;32m      7\u001b[0m \u001b[1;33m\u001b[0m\u001b[0m\n\u001b[1;32m----> 8\u001b[1;33m             \u001b[0mvalue\u001b[0m \u001b[1;33m=\u001b[0m \u001b[0mint\u001b[0m\u001b[1;33m(\u001b[0m\u001b[0mvalidateFile\u001b[0m\u001b[1;33m(\u001b[0m\u001b[0mexcelFile\u001b[0m\u001b[1;33m,\u001b[0m \u001b[0mstateKey\u001b[0m\u001b[1;33m)\u001b[0m\u001b[1;33m)\u001b[0m\u001b[1;33m\u001b[0m\u001b[0m\n\u001b[0m\u001b[0;32m      9\u001b[0m             \u001b[0mcsvfile\u001b[0m\u001b[1;33m.\u001b[0m\u001b[0mwrite\u001b[0m\u001b[1;33m(\u001b[0m\u001b[1;34m\"{},{}\\n\"\u001b[0m\u001b[1;33m.\u001b[0m\u001b[0mformat\u001b[0m\u001b[1;33m(\u001b[0m\u001b[0mi\u001b[0m\u001b[1;33m,\u001b[0m \u001b[0mvalue\u001b[0m\u001b[1;33m)\u001b[0m\u001b[1;33m)\u001b[0m\u001b[1;33m\u001b[0m\u001b[0m\n",
      "\u001b[1;32m<ipython-input-9-5b4f527e81f4>\u001b[0m in \u001b[0;36mvalidateFile\u001b[1;34m(excelFile, stateKey)\u001b[0m\n\u001b[0;32m      7\u001b[0m \u001b[1;33m\u001b[0m\u001b[0m\n\u001b[1;32m----> 8\u001b[1;33m     \u001b[1;32mfor\u001b[0m \u001b[0mstateName\u001b[0m \u001b[1;32min\u001b[0m \u001b[0mstates\u001b[0m\u001b[1;33m[\u001b[0m\u001b[0mstateKey\u001b[0m\u001b[1;33m]\u001b[0m\u001b[1;33m:\u001b[0m\u001b[1;33m\u001b[0m\u001b[0m\n\u001b[0m\u001b[0;32m      9\u001b[0m         \u001b[1;32mif\u001b[0m\u001b[1;33m(\u001b[0m\u001b[0mstateName\u001b[0m \u001b[1;32min\u001b[0m \u001b[0mcolumnsDiccionary\u001b[0m\u001b[1;33m)\u001b[0m\u001b[1;33m:\u001b[0m\u001b[1;33m\u001b[0m\u001b[0m\n",
      "\u001b[1;31mKeyError\u001b[0m: 'SantanderNortew'",
      "\nDuring handling of the above exception, another exception occurred:\n",
      "\u001b[1;31mNameError\u001b[0m                                 Traceback (most recent call last)",
      "\u001b[1;32m<ipython-input-11-fc37ee7e0c25>\u001b[0m in \u001b[0;36m<module>\u001b[1;34m()\u001b[0m\n\u001b[0;32m      8\u001b[0m             \u001b[0mvalue\u001b[0m \u001b[1;33m=\u001b[0m \u001b[0mint\u001b[0m\u001b[1;33m(\u001b[0m\u001b[0mvalidateFile\u001b[0m\u001b[1;33m(\u001b[0m\u001b[0mexcelFile\u001b[0m\u001b[1;33m,\u001b[0m \u001b[0mstateKey\u001b[0m\u001b[1;33m)\u001b[0m\u001b[1;33m)\u001b[0m\u001b[1;33m\u001b[0m\u001b[0m\n\u001b[0;32m      9\u001b[0m             \u001b[0mcsvfile\u001b[0m\u001b[1;33m.\u001b[0m\u001b[0mwrite\u001b[0m\u001b[1;33m(\u001b[0m\u001b[1;34m\"{},{}\\n\"\u001b[0m\u001b[1;33m.\u001b[0m\u001b[0mformat\u001b[0m\u001b[1;33m(\u001b[0m\u001b[0mi\u001b[0m\u001b[1;33m,\u001b[0m \u001b[0mvalue\u001b[0m\u001b[1;33m)\u001b[0m\u001b[1;33m)\u001b[0m\u001b[1;33m\u001b[0m\u001b[0m\n\u001b[1;32m---> 10\u001b[1;33m     \u001b[1;32mexcept\u001b[0m \u001b[0me\u001b[0m\u001b[1;33m:\u001b[0m\u001b[1;33m\u001b[0m\u001b[0m\n\u001b[0m\u001b[0;32m     11\u001b[0m         \u001b[0mprint\u001b[0m\u001b[1;33m(\u001b[0m\u001b[1;34m\"Error in Epi week, check before proceeding: \"\u001b[0m\u001b[1;33m,\u001b[0m \u001b[0mi\u001b[0m\u001b[1;33m)\u001b[0m\u001b[1;33m\u001b[0m\u001b[0m\n\u001b[0;32m     12\u001b[0m         \u001b[0mprint\u001b[0m\u001b[1;33m(\u001b[0m\u001b[0me\u001b[0m\u001b[1;33m)\u001b[0m\u001b[1;33m\u001b[0m\u001b[0m\n",
      "\u001b[1;31mNameError\u001b[0m: name 'e' is not defined"
     ]
    }
   ],
   "source": [
    "outputFileName = \"{}/parsedFiles/{}.csv\".format(year, stateKey)\n",
    "with open(outputFileName, 'w') as csvfile:\n",
    "    csvfile.write(\"Week,Cases\\n\")\n",
    "    try : \n",
    "        for i in range(firstWeek, lastWeek + 1):\n",
    "            excelFile = loadFile(\"{}/{}/Epi-{}.xlsx\".format(year, folder, i))\n",
    "\n",
    "            value = int(validateFile(excelFile, stateKey))\n",
    "            csvfile.write(\"{},{}\\n\".format(i, value))\n",
    "    except Exception as e: \n",
    "        print(\"Error in Epi week, check before proceeding: \", i)\n",
    "        print(e)"
   ]
  },
  {
   "cell_type": "code",
   "execution_count": null,
   "metadata": {
    "collapsed": true
   },
   "outputs": [],
   "source": []
  }
 ],
 "metadata": {
  "kernelspec": {
   "display_name": "Python 3",
   "language": "python",
   "name": "python3"
  },
  "language_info": {
   "codemirror_mode": {
    "name": "ipython",
    "version": 3
   },
   "file_extension": ".py",
   "mimetype": "text/x-python",
   "name": "python",
   "nbconvert_exporter": "python",
   "pygments_lexer": "ipython3",
   "version": "3.6.3"
  }
 },
 "nbformat": 4,
 "nbformat_minor": 2
}
