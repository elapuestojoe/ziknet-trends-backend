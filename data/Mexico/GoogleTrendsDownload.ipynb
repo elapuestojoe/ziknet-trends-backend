{
 "cells": [
  {
   "cell_type": "code",
   "execution_count": 34,
   "metadata": {
    "collapsed": true
   },
   "outputs": [],
   "source": [
    "from pytrends.request import TrendReq\n",
    "import datetime\n",
    "\n",
    "# Login to Google. Only need to run this once, the rest of requests will use the same session.\n",
    "pytrend = TrendReq()"
   ]
  },
  {
   "cell_type": "code",
   "execution_count": 35,
   "metadata": {
    "collapsed": true
   },
   "outputs": [],
   "source": [
    "def getWeeks():\n",
    "\n",
    "    dStart = input(\"Enter date of start epidemiological week in DD-MM-YYYY format: \")\n",
    "    dStart = [int(i) for i in dStart.split(\"-\")]\n",
    "    start = datetime.datetime(dStart[2],dStart[1],dStart[0])\n",
    "    \n",
    "    dEnd = input(\"Enter date of end epidemiological week in DD-MM-YYYY format: \")\n",
    "    dEnd = [int(i) for i in dEnd.split(\"-\")]\n",
    "    end = datetime.datetime(dEnd[2],dEnd[1],dEnd[0])\n",
    "    \n",
    "    nextWeek = getNextWeek(start)\n",
    "    weeks = [start]\n",
    "    \n",
    "    while nextWeek <= end:\n",
    "        if(nextWeek < datetime.datetime.today()):\n",
    "            weeks.append(nextWeek)\n",
    "            nextWeek = getNextWeek(nextWeek)\n",
    "    \n",
    "    return weeks"
   ]
  },
  {
   "cell_type": "code",
   "execution_count": 36,
   "metadata": {
    "collapsed": true
   },
   "outputs": [],
   "source": [
    "def getNextWeek(timeframe):\n",
    "    return timeframe+datetime.timedelta(days=7)"
   ]
  },
  {
   "cell_type": "code",
   "execution_count": 37,
   "metadata": {
    "collapsed": true
   },
   "outputs": [],
   "source": [
    "def getYMD(timeframe):\n",
    "    return \"{}/{}/{}\".format(timeframe.day,timeframe.month,timeframe.year)"
   ]
  },
  {
   "cell_type": "code",
   "execution_count": 38,
   "metadata": {},
   "outputs": [
    {
     "name": "stdout",
     "output_type": "stream",
     "text": [
      "Enter year: 2018\n"
     ]
    }
   ],
   "source": [
    "year = input(\"Enter year: \")"
   ]
  },
  {
   "cell_type": "code",
   "execution_count": 39,
   "metadata": {},
   "outputs": [
    {
     "name": "stdout",
     "output_type": "stream",
     "text": [
      "Enter country code: MX\n"
     ]
    }
   ],
   "source": [
    "countryCode = input(\"Enter country code: \")"
   ]
  },
  {
   "cell_type": "code",
   "execution_count": 40,
   "metadata": {},
   "outputs": [
    {
     "name": "stdout",
     "output_type": "stream",
     "text": [
      "Enter date of start epidemiological week in DD-MM-YYYY format: 06-01-2018\n",
      "Enter date of end epidemiological week in DD-MM-YYYY format: 05-05-2018\n"
     ]
    }
   ],
   "source": [
    "weeks = getWeeks()"
   ]
  },
  {
   "cell_type": "code",
   "execution_count": 41,
   "metadata": {},
   "outputs": [
    {
     "name": "stdout",
     "output_type": "stream",
     "text": [
      "2018-1-6 -> 2018-1-12\n",
      "DONE 2018-01-06 00:00:00\n",
      "2018-1-13 -> 2018-1-19\n",
      "DONE 2018-01-13 00:00:00\n",
      "2018-1-20 -> 2018-1-26\n",
      "DONE 2018-01-20 00:00:00\n",
      "2018-1-27 -> 2018-2-2\n",
      "DONE 2018-01-27 00:00:00\n",
      "2018-2-3 -> 2018-2-9\n",
      "DONE 2018-02-03 00:00:00\n",
      "2018-2-10 -> 2018-2-16\n",
      "DONE 2018-02-10 00:00:00\n",
      "2018-2-17 -> 2018-2-23\n",
      "DONE 2018-02-17 00:00:00\n",
      "2018-2-24 -> 2018-3-2\n",
      "DONE 2018-02-24 00:00:00\n",
      "2018-3-3 -> 2018-3-9\n",
      "DONE 2018-03-03 00:00:00\n",
      "2018-3-10 -> 2018-3-16\n",
      "DONE 2018-03-10 00:00:00\n",
      "2018-3-17 -> 2018-3-23\n",
      "DONE 2018-03-17 00:00:00\n",
      "2018-3-24 -> 2018-3-30\n",
      "DONE 2018-03-24 00:00:00\n",
      "2018-3-31 -> 2018-4-6\n",
      "DONE 2018-03-31 00:00:00\n",
      "2018-4-7 -> 2018-4-13\n",
      "DONE 2018-04-07 00:00:00\n",
      "2018-4-14 -> 2018-4-20\n",
      "DONE 2018-04-14 00:00:00\n",
      "2018-4-21 -> 2018-4-27\n",
      "DONE 2018-04-21 00:00:00\n",
      "2018-4-28 -> 2018-5-4\n",
      "DONE 2018-04-28 00:00:00\n",
      "2018-5-5 -> 2018-5-11\n",
      "DONE 2018-05-05 00:00:00\n"
     ]
    }
   ],
   "source": [
    "with open(\"{}/google/{}.csv\".format(year, countryCode), \"w\") as file:\n",
    "    weekEpiArray = []\n",
    "    cities = {}\n",
    "    file.write(\"CITY,\")\n",
    "    file.write(\",\".join(map(getYMD, weeks))+\"\\n\")\n",
    "    for i in range(len(weeks)):\n",
    "        week = weeks[i]\n",
    "        nextWeek = getNextWeek(week)\n",
    "        year = week.year\n",
    "        month = week.month\n",
    "        day = week.day\n",
    "        nextWeekC = nextWeek - datetime.timedelta(days=1)\n",
    "        timeframe = \"{}-{}-{} {}-{}-{}\".format(year,month,day,nextWeekC.year,nextWeekC.month,nextWeekC.day)\n",
    "        print(\"{}-{}-{} -> {}-{}-{}\".format(year,month,day,nextWeekC.year,nextWeekC.month,nextWeekC.day))\n",
    "        pytrend.build_payload(kw_list=['zika'], geo=countryCode, timeframe=timeframe)\n",
    "        results = pytrend.interest_by_region(resolution=\"CITY\")\n",
    "        # if a city's search index is 0 it doesn't appear on results, so we have to keep track of it\n",
    "        tempWeekArray = {}\n",
    "        for index, row in results.iterrows():\n",
    "            tempWeekArray[index] = row[\"zika\"]\n",
    "            if index not in cities:\n",
    "                cities[index] = index #Store in dictionary to get O(1) access\n",
    "        weekEpiArray.append(tempWeekArray)\n",
    "        print(\"DONE\", week)\n",
    "        \n",
    "    # Iterate on weekEpiArray and replace non existent cities with zeroes\n",
    "    searchesByCity = {}\n",
    "    for city in cities:\n",
    "        searchesByCity[city] = []\n",
    "        for week in weekEpiArray:\n",
    "            if city not in week:\n",
    "                searchesByCity[city].append(0)\n",
    "            else:\n",
    "                searchesByCity[city].append(week[city])\n",
    "                \n",
    "    # Finally write to file\n",
    "    for city in sorted(searchesByCity.keys()):\n",
    "        file.write(\"{},\".format(city))\n",
    "        file.write(\",\".join(map(str,searchesByCity[city])))\n",
    "        file.write(\"\\n\")"
   ]
  },
  {
   "cell_type": "code",
   "execution_count": null,
   "metadata": {
    "collapsed": true
   },
   "outputs": [],
   "source": []
  }
 ],
 "metadata": {
  "kernelspec": {
   "display_name": "Python 3",
   "language": "python",
   "name": "python3"
  },
  "language_info": {
   "codemirror_mode": {
    "name": "ipython",
    "version": 3
   },
   "file_extension": ".py",
   "mimetype": "text/x-python",
   "name": "python",
   "nbconvert_exporter": "python",
   "pygments_lexer": "ipython3",
   "version": "3.6.3"
  }
 },
 "nbformat": 4,
 "nbformat_minor": 2
}
