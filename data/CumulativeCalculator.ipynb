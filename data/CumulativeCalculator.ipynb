{
 "cells": [
  {
   "cell_type": "code",
   "execution_count": 2,
   "metadata": {
    "collapsed": true
   },
   "outputs": [],
   "source": [
    "import numpy as np\n",
    "import pandas as pd\n",
    "import os"
   ]
  },
  {
   "cell_type": "code",
   "execution_count": 5,
   "metadata": {},
   "outputs": [
    {
     "name": "stdout",
     "output_type": "stream",
     "text": [
      "Alagoas_2016-2017.csv 7076\n",
      "Bahia_2016-2017.csv 53433\n",
      "Ceara_2016-2017.csv 5843\n",
      "Goias_2016-2017.csv 14344\n",
      "Maranhao_2016-2017.csv 5124\n",
      "MatoGrosso_2016-2017.csv 23776\n",
      "MinasGerais_2016-2017.csv 14623\n",
      "Para_2016-2017.csv 5352\n",
      "RioDeJaneiro_2016-2017.csv 73739\n",
      "SaoPaulo_2016-2017.csv 71941\n",
      "casanare_2016-2017.csv 3989\n",
      "cordoba_2016-2017.csv 2718\n",
      "cundinamarca_2016-2017.csv 3646\n",
      "huila_2016-2017.csv 6425\n",
      "meta_2016-2017.csv 4389\n",
      "santander_2016-2017.csv 10430\n",
      "santander_norte_2016-2017.csv 10172\n",
      "tolima_2016-2017.csv 6553\n",
      "valle_cauca_2016-2017.csv 27610\n",
      "Chiapas_2016-2017.csv 773\n",
      "Colima_2016-2017.csv 280\n",
      "Guerrero_2016-2017.csv 825\n",
      "Hidalgo_2016-2017.csv 275\n",
      "NuevoLeon_2016-2017.csv 886\n",
      "Oaxaca_2016-2017.csv 493\n",
      "QuintanaRoo_2016-2017.csv 371\n",
      "Tabasco_2016-2017.csv 318\n",
      "Veracruz_2016-2017.csv 1989\n",
      "Yucatan_2016-2017.csv 838\n"
     ]
    }
   ],
   "source": [
    "cumulativeCsv = pd.DataFrame(columns=[\"Country\", \"CumulativeCases\"])\n",
    "for country in [\"Brazil\", \"Colombia\", \"Mexico\"]:\n",
    "    \n",
    "    folder = \"../data/{}/processed_data\".format(country)\n",
    "    files = os.listdir(folder)\n",
    "    cases = 0\n",
    "    for file in files:\n",
    "        dataset = pd.read_csv(\"{}/{}\".format(folder, file), index_col=0)\n",
    "        cases += dataset[\"Cases\"].sum()\n",
    "        print(file, dataset[\"Cases\"].sum())\n",
    "    cumulativeCsv = cumulativeCsv.append({\n",
    "        \"Country\": country,\n",
    "        \"CumulativeCases\" : cases\n",
    "    },ignore_index=True)\n",
    "cumulativeCsv.to_csv(\"CumulativeCases2016-2017.csv\")"
   ]
  },
  {
   "cell_type": "code",
   "execution_count": null,
   "metadata": {
    "collapsed": true
   },
   "outputs": [],
   "source": []
  }
 ],
 "metadata": {
  "kernelspec": {
   "display_name": "Python 3",
   "language": "python",
   "name": "python3"
  },
  "language_info": {
   "codemirror_mode": {
    "name": "ipython",
    "version": 3
   },
   "file_extension": ".py",
   "mimetype": "text/x-python",
   "name": "python",
   "nbconvert_exporter": "python",
   "pygments_lexer": "ipython3",
   "version": "3.6.3"
  }
 },
 "nbformat": 4,
 "nbformat_minor": 2
}
