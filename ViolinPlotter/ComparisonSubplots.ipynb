{
 "cells": [
  {
   "cell_type": "code",
   "execution_count": 3,
   "metadata": {
    "collapsed": true
   },
   "outputs": [],
   "source": [
    "import pandas as pd\n",
    "import os\n",
    "import matplotlib.pyplot as plt\n",
    "import seaborn as sns\n"
   ]
  },
  {
   "cell_type": "code",
   "execution_count": 4,
   "metadata": {
    "collapsed": true
   },
   "outputs": [],
   "source": [
    "fig = plt.figure(figsize=(8,9))\n",
    "axes = {\n",
    "    \"Brazil\" : plt.subplot2grid((3,1), (0,0), rowspan=1, colspan=1),\n",
    "    \"Colombia\" : plt.subplot2grid((3,1), (1, 0), rowspan=1, colspan=1),\n",
    "    \"Mexico\" : plt.subplot2grid((3,1), (2,0), rowspan=1, colspan=1)\n",
    "}\n",
    "\n",
    "for country in [\"Brazil\", \"Colombia\", \"Mexico\"]:\n",
    "    \n",
    "    #Arimax\n",
    "    ArimaxFolder = \"../Models/Arimax-State\"\n",
    "    arimaxErrors = []\n",
    "    \n",
    "    for state in os.listdir(\"{}/{}\".format(ArimaxFolder, country)):\n",
    "        dataset = pd.read_csv(\"{0}/{1}/{2}/Arimax-{2}\".format(ArimaxFolder, country, state))\n",
    "        for error in dataset[\"error\"].values:\n",
    "            arimaxErrors.append(error)\n",
    "            \n",
    "    #LSTM\n",
    "    LSTMFolder = \"../Models/LSTM_yearly\"\n",
    "    lstmErrors = []\n",
    "    for state in os.listdir(\"{}/{}\".format(LSTMFolder, country)):\n",
    "        dataset = pd.read_csv(\"{0}/{1}/{2}/{2}\".format(LSTMFolder, country, state))\n",
    "        \n",
    "        for error in dataset[\"error\"].values:\n",
    "            lstmErrors.append(error)\n",
    "            \n",
    "    #Naive\n",
    "    NaiveFolder = \"../Models/Naive\"\n",
    "    naiveErrors = []\n",
    "    for state in os.listdir(\"{}/{}\".format(NaiveFolder, country)):\n",
    "        dataset = pd.read_csv(\"{0}/{1}/{2}/Naive-{2}\".format(NaiveFolder, country, state))\n",
    "        \n",
    "        for error in dataset[\"error\"].values:\n",
    "            naiveErrors.append(error)\n",
    "    \n",
    "    outDataset = pd.DataFrame()\n",
    "    \n",
    "    outDataset.insert(0, \"Arimax-Errors\", arimaxErrors)\n",
    "    outDataset.insert(1, \"LSTM-Errors\", lstmErrors)\n",
    "    outDataset.insert(2, \"Naive-Errors\", naiveErrors)\n",
    "    \n",
    "    ax = axes[country]\n",
    "    \n",
    "    ax.set_title(\"{} errors per model\".format(country))\n",
    "    sns.violinplot(data=outDataset, ax=ax, inner=\"box\", orient=\"h\")\n",
    "    ax.set_facecolor((0.9, 0.9, 0.9, 0.7))\n",
    "    ax.set_ylabel(\"Error\")\n",
    "    ax.grid(linestyle='dashed', linewidth=1.5)\n",
    "plt.tight_layout()\n",
    "fig = plt.gcf()\n",
    "fig.savefig(\"Models.png\".format(country))\n"
   ]
  },
  {
   "cell_type": "code",
   "execution_count": null,
   "metadata": {
    "collapsed": true
   },
   "outputs": [],
   "source": [
    "\n",
    "\n"
   ]
  }
 ],
 "metadata": {
  "kernelspec": {
   "display_name": "Python 3",
   "language": "python",
   "name": "python3"
  },
  "language_info": {
   "codemirror_mode": {
    "name": "ipython",
    "version": 3
   },
   "file_extension": ".py",
   "mimetype": "text/x-python",
   "name": "python",
   "nbconvert_exporter": "python",
   "pygments_lexer": "ipython3",
   "version": "3.6.3"
  }
 },
 "nbformat": 4,
 "nbformat_minor": 2
}
