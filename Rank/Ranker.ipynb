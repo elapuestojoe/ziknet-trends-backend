{
 "cells": [
  {
   "cell_type": "code",
   "execution_count": 1,
   "metadata": {
    "collapsed": true
   },
   "outputs": [],
   "source": [
    "import os\n",
    "import pandas as pd"
   ]
  },
  {
   "cell_type": "code",
   "execution_count": 2,
   "metadata": {
    "collapsed": true
   },
   "outputs": [],
   "source": [
    "for country in [\"Brazil\", \"Colombia\", \"Mexico\"]:\n",
    "    folder = \"../data/{}/processed_data\".format(country)\n",
    "    \n",
    "    countryCsv = pd.DataFrame(columns=[\"File\", \"TotalCases\"])\n",
    "            \n",
    "    for file in os.listdir(folder):\n",
    "        dataset = pd.read_csv(\"{}/{}\".format(folder, file), index_col=0)\n",
    "        \n",
    "        countryCsv = countryCsv.append({\n",
    "            \"File\" : file,\n",
    "            \"TotalCases\" : dataset[\"Cases\"].sum()\n",
    "        }, ignore_index=True)\n",
    "        \n",
    "    countryCsv.to_csv(\"{}.csv\".format(country))"
   ]
  },
  {
   "cell_type": "code",
   "execution_count": null,
   "metadata": {
    "collapsed": true
   },
   "outputs": [],
   "source": []
  }
 ],
 "metadata": {
  "kernelspec": {
   "display_name": "Python 3",
   "language": "python",
   "name": "python3"
  },
  "language_info": {
   "codemirror_mode": {
    "name": "ipython",
    "version": 3
   },
   "file_extension": ".py",
   "mimetype": "text/x-python",
   "name": "python",
   "nbconvert_exporter": "python",
   "pygments_lexer": "ipython3",
   "version": "3.6.3"
  }
 },
 "nbformat": 4,
 "nbformat_minor": 2
}
