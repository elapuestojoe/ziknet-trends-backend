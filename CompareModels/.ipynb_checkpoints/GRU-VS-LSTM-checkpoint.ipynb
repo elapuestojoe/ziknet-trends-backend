{
 "cells": [
  {
   "cell_type": "code",
   "execution_count": 1,
   "metadata": {
    "collapsed": true
   },
   "outputs": [],
   "source": [
    "import pandas as pd\n",
    "import os\n",
    "import matplotlib.pyplot as plt"
   ]
  },
  {
   "cell_type": "code",
   "execution_count": 7,
   "metadata": {},
   "outputs": [
    {
     "name": "stdout",
     "output_type": "stream",
     "text": [
      "Enter train country: Colombia\n",
      "Enter test country: Mexico\n",
      "FILES:  ['Chiapas_2016-2017.csv', 'Guerrero_2016-2017.csv', 'NuevoLeon_2016-2017.csv', 'Veracruz_2016-2017.csv', 'Yucatan_2016-2017.csv']\n",
      "Enter test state: Veracruz_2016-2017.csv\n"
     ]
    }
   ],
   "source": [
    "trainCountry = input(\"Enter train country: \")\n",
    "testCountry = input(\"Enter test country: \")\n",
    "\n",
    "print(\"FILES: \", os.listdir(\"../Models/LSTM_1Week/{}/test/{}\".format(trainCountry, testCountry)))\n",
    "testState = input(\"Enter test state: \")"
   ]
  },
  {
   "cell_type": "code",
   "execution_count": 15,
   "metadata": {},
   "outputs": [
    {
     "name": "stderr",
     "output_type": "stream",
     "text": [
      "E:\\Aplicaciones\\Anaconda\\lib\\site-packages\\matplotlib\\pyplot.py:523: RuntimeWarning: More than 20 figures have been opened. Figures created through the pyplot interface (`matplotlib.pyplot.figure`) are retained until explicitly closed and may consume too much memory. (To control this warning, see the rcParam `figure.max_open_warning`).\n",
      "  max_open_warning, RuntimeWarning)\n"
     ]
    }
   ],
   "source": [
    "for i in range(1,6):\n",
    "    \n",
    "\n",
    "    #GRU\n",
    "    grufile = \"../Models/GRU_{0}Week/{1}/test/{2}/{3}/{3}\".format(i, trainCountry, testCountry, testState)\n",
    "    gruCsv = pd.read_csv(grufile, index_col=0)\n",
    "    \n",
    "    out = pd.DataFrame(gruCsv[\"Observed\"])\n",
    "    out.set_index(gruCsv.index, inplace=True)\n",
    "\n",
    "    out[\"GRU-Prediction\"] = gruCsv[\"GRU-Prediction\"]\n",
    "    \n",
    "    #LSTM\n",
    "    lstmfile = \"../Models/LSTM_{0}Week/{1}/test/{2}/{3}/{3}\".format(i, trainCountry, testCountry, testState)\n",
    "    lstmCsv = pd.read_csv(lstmfile, index_col=0)\n",
    "    out[\"LSTM-Prediction\"] = lstmCsv[\"LSTM-Prediction\"]\n",
    "    out[\"Naive-Prediction\"] = lstmCsv[\"Naive-Prediction\"]\n",
    "    \n",
    "    out[\"LSTM-Error\"] = lstmCsv[\"LSTMError\"]\n",
    "    out[\"Naive-Error\"] = lstmCsv[\"NaiveError\"]\n",
    "    out[\"GRU-Error\"] = gruCsv[\"GRUError\"]\n",
    "    \n",
    "    plt.rc('ytick', labelsize=12)\n",
    "    plt.rc(\"xtick\", labelsize=12)\n",
    "    plt.rc('axes', titlesize=12)     # fontsize of the axes title\n",
    "    plt.rc('axes', labelsize=12)    # fontsize of the x and y labels\n",
    "    plt.rc('legend', fontsize=12) \n",
    "    \n",
    "    fig = plt.figure(figsize=(16,8))\n",
    "    ax1 = plt.subplot2grid((4, 4), (0, 0), rowspan=3, colspan=4)\n",
    "    out[[\"GRU-Prediction\", \"Naive-Prediction\", \"LSTM-Prediction\"]].plot(ax=ax1, legend=True)\n",
    "    out[[\"Observed\"]].plot(ax=ax1, legend=True, lw=3)\n",
    "    plt.title(\"Model trained with {} data \\n Tested in {}: \\n{} Week ahead predictions\".format(trainCountry,\\\n",
    "        testState.replace(\"_\", \" \").replace(\"valle\", \"Valle\").replace(\".csv\", \"\").replace(\"cauca\", \"Cauca\"),\\\n",
    "        i))\n",
    "    plt.xlabel(\"Date\")\n",
    "    plt.ylabel(\"Cases\")\n",
    "    ax1.set_facecolor((0.9, 0.9, 0.9, 0.7))\n",
    "    plt.axhline(linewidth=1.5, color='black')\n",
    "    plt.grid(linestyle='dashed', linewidth=1.5)\n",
    "    \n",
    "    ax2 = plt.subplot2grid((4, 4), (3, 0), rowspan=1, colspan=4)\n",
    "    out[[\"GRU-Error\", \"Naive-Error\", \"LSTM-Error\"]].plot(ax=ax2, legend=True)\n",
    "    plt.title(\"Error per model\")\n",
    "    plt.xlabel(\"Date\")\n",
    "    plt.ylabel(\"Error\")\n",
    "    plt.axhline(linewidth=1.5, color='black')\n",
    "    ax2.set_facecolor((0.9, 0.9, 0.9, 0.7))\n",
    "    ax2.grid(linestyle='dashed', linewidth=1.5)\n",
    "    plt.tight_layout()\n",
    "    \n",
    "    fig.savefig(\"GRU-VS-LSTM/{}/{}-{}_Week\".format(trainCountry, testState.replace(\".csv\",\"\"), i))\n"
   ]
  },
  {
   "cell_type": "code",
   "execution_count": null,
   "metadata": {
    "collapsed": true
   },
   "outputs": [],
   "source": []
  }
 ],
 "metadata": {
  "kernelspec": {
   "display_name": "Python 3",
   "language": "python",
   "name": "python3"
  },
  "language_info": {
   "codemirror_mode": {
    "name": "ipython",
    "version": 3
   },
   "file_extension": ".py",
   "mimetype": "text/x-python",
   "name": "python",
   "nbconvert_exporter": "python",
   "pygments_lexer": "ipython3",
   "version": "3.6.3"
  }
 },
 "nbformat": 4,
 "nbformat_minor": 2
}
