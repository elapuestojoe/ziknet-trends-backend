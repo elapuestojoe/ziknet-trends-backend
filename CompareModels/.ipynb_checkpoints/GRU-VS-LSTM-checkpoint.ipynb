{
 "cells": [
  {
   "cell_type": "code",
   "execution_count": 3,
   "metadata": {
    "collapsed": true
   },
   "outputs": [],
   "source": [
    "import pandas as pd\n",
    "import os\n",
    "import matplotlib.pyplot as plt"
   ]
  },
  {
   "cell_type": "code",
   "execution_count": 4,
   "metadata": {},
   "outputs": [
    {
     "name": "stdout",
     "output_type": "stream",
     "text": [
      "Enter train country: Brazil\n",
      "Enter test country: Colombia\n",
      "FILES:  ['huila_2016-2017.csv', 'santander_2016-2017.csv', 'santander_norte_2016-2017.csv', 'tolima_2016-2017.csv', 'valle_cauca_2016-2017.csv']\n",
      "Enter test state: valle_cauca_2016-2017.csv\n"
     ]
    }
   ],
   "source": [
    "trainCountry = input(\"Enter train country: \")\n",
    "testCountry = input(\"Enter test country: \")\n",
    "\n",
    "print(\"FILES: \", os.listdir(\"../Models/LSTM_1Week/{}/test/{}\".format(trainCountry, testCountry)))\n",
    "testState = input(\"Enter test state: \")"
   ]
  },
  {
   "cell_type": "code",
   "execution_count": 5,
   "metadata": {},
   "outputs": [
    {
     "ename": "NameError",
     "evalue": "name 'colors' is not defined",
     "output_type": "error",
     "traceback": [
      "\u001b[1;31m---------------------------------------------------------------------------\u001b[0m",
      "\u001b[1;31mNameError\u001b[0m                                 Traceback (most recent call last)",
      "\u001b[1;32m<ipython-input-5-6b9334274767>\u001b[0m in \u001b[0;36m<module>\u001b[1;34m()\u001b[0m\n\u001b[0;32m     29\u001b[0m     \u001b[0mfig\u001b[0m \u001b[1;33m=\u001b[0m \u001b[0mplt\u001b[0m\u001b[1;33m.\u001b[0m\u001b[0mfigure\u001b[0m\u001b[1;33m(\u001b[0m\u001b[0mfigsize\u001b[0m\u001b[1;33m=\u001b[0m\u001b[1;33m(\u001b[0m\u001b[1;36m16\u001b[0m\u001b[1;33m,\u001b[0m\u001b[1;36m8\u001b[0m\u001b[1;33m)\u001b[0m\u001b[1;33m)\u001b[0m\u001b[1;33m\u001b[0m\u001b[0m\n\u001b[0;32m     30\u001b[0m     \u001b[0max1\u001b[0m \u001b[1;33m=\u001b[0m \u001b[0mplt\u001b[0m\u001b[1;33m.\u001b[0m\u001b[0msubplot2grid\u001b[0m\u001b[1;33m(\u001b[0m\u001b[1;33m(\u001b[0m\u001b[1;36m4\u001b[0m\u001b[1;33m,\u001b[0m \u001b[1;36m4\u001b[0m\u001b[1;33m)\u001b[0m\u001b[1;33m,\u001b[0m \u001b[1;33m(\u001b[0m\u001b[1;36m0\u001b[0m\u001b[1;33m,\u001b[0m \u001b[1;36m0\u001b[0m\u001b[1;33m)\u001b[0m\u001b[1;33m,\u001b[0m \u001b[0mrowspan\u001b[0m\u001b[1;33m=\u001b[0m\u001b[1;36m3\u001b[0m\u001b[1;33m,\u001b[0m \u001b[0mcolspan\u001b[0m\u001b[1;33m=\u001b[0m\u001b[1;36m4\u001b[0m\u001b[1;33m)\u001b[0m\u001b[1;33m\u001b[0m\u001b[0m\n\u001b[1;32m---> 31\u001b[1;33m     \u001b[0mplt\u001b[0m\u001b[1;33m.\u001b[0m\u001b[0mgca\u001b[0m\u001b[1;33m(\u001b[0m\u001b[1;33m)\u001b[0m\u001b[1;33m.\u001b[0m\u001b[0mset_color_cycle\u001b[0m\u001b[1;33m(\u001b[0m\u001b[0mcolors\u001b[0m\u001b[1;33m[\u001b[0m\u001b[1;36m1\u001b[0m\u001b[1;33m:\u001b[0m\u001b[1;36m3\u001b[0m\u001b[1;33m]\u001b[0m\u001b[1;33m)\u001b[0m\u001b[1;33m\u001b[0m\u001b[0m\n\u001b[0m\u001b[0;32m     32\u001b[0m     \u001b[0mout\u001b[0m\u001b[1;33m[\u001b[0m\u001b[1;33m[\u001b[0m\u001b[1;34m\"Naive-Prediction\"\u001b[0m\u001b[1;33m,\u001b[0m \u001b[1;34m\"LSTM-Prediction\"\u001b[0m\u001b[1;33m]\u001b[0m\u001b[1;33m]\u001b[0m\u001b[1;33m.\u001b[0m\u001b[0mplot\u001b[0m\u001b[1;33m(\u001b[0m\u001b[0max\u001b[0m\u001b[1;33m=\u001b[0m\u001b[0max1\u001b[0m\u001b[1;33m,\u001b[0m \u001b[0mlegend\u001b[0m\u001b[1;33m=\u001b[0m\u001b[1;32mTrue\u001b[0m\u001b[1;33m)\u001b[0m\u001b[1;33m\u001b[0m\u001b[0m\n\u001b[0;32m     33\u001b[0m     \u001b[0mplt\u001b[0m\u001b[1;33m.\u001b[0m\u001b[0mgca\u001b[0m\u001b[1;33m(\u001b[0m\u001b[1;33m)\u001b[0m\u001b[1;33m.\u001b[0m\u001b[0mset_color_cycle\u001b[0m\u001b[1;33m(\u001b[0m\u001b[0mcolors\u001b[0m\u001b[1;33m[\u001b[0m\u001b[1;36m3\u001b[0m\u001b[1;33m]\u001b[0m\u001b[1;33m)\u001b[0m\u001b[1;33m\u001b[0m\u001b[0m\n",
      "\u001b[1;31mNameError\u001b[0m: name 'colors' is not defined"
     ]
    }
   ],
   "source": [
    "for i in range(1,6):\n",
    "    \n",
    "\n",
    "    #GRU\n",
    "    grufile = \"../Models/GRU_{0}Week/{1}/test/{2}/{3}/{3}\".format(i, trainCountry, testCountry, testState)\n",
    "    gruCsv = pd.read_csv(grufile, index_col=0)\n",
    "    \n",
    "    out = pd.DataFrame(gruCsv[\"Observed\"])\n",
    "    out.set_index(gruCsv.index, inplace=True)\n",
    "\n",
    "    out[\"GRU-Prediction\"] = gruCsv[\"GRU-Prediction\"]\n",
    "    \n",
    "    #LSTM\n",
    "    lstmfile = \"../Models/LSTM_{0}Week/{1}/test/{2}/{3}/{3}\".format(i, trainCountry, testCountry, testState)\n",
    "    lstmCsv = pd.read_csv(lstmfile, index_col=0)\n",
    "    out[\"LSTM-Prediction\"] = lstmCsv[\"LSTM-Prediction\"]\n",
    "    out[\"Naive-Prediction\"] = lstmCsv[\"Naive-Prediction\"]\n",
    "    \n",
    "    out[\"LSTM-Error\"] = lstmCsv[\"LSTMError\"]\n",
    "    out[\"Naive-Error\"] = lstmCsv[\"NaiveError\"]\n",
    "    out[\"GRU-Error\"] = gruCsv[\"GRUError\"]\n",
    "    \n",
    "    plt.rc('ytick', labelsize=12)\n",
    "    plt.rc(\"xtick\", labelsize=12)\n",
    "    plt.rc('axes', titlesize=12)     # fontsize of the axes title\n",
    "    plt.rc('axes', labelsize=12)    # fontsize of the x and y labels\n",
    "    plt.rc('legend', fontsize=12) \n",
    "    \n",
    "    fig = plt.figure(figsize=(16,8))\n",
    "    ax1 = plt.subplot2grid((4, 4), (0, 0), rowspan=3, colspan=4)\n",
    "    plt.gca().set_color_cycle(colors[1:3])\n",
    "    out[[\"Naive-Prediction\", \"LSTM-Prediction\"]].plot(ax=ax1, legend=True)\n",
    "    plt.gca().set_color_cycle(colors[3])\n",
    "    out[[\"Observed\"]].plot(ax=ax1, legend=True, lw=2.5)\n",
    "    colors = plt.rcParams['axes.prop_cycle'].by_key()['color']\n",
    "    plt.title(\"Model trained with {} data \\n Tested in {}: \\n{} Week ahead predictions\".format(trainCountry,\\\n",
    "        testState.replace(\"_\", \" \").replace(\"valle\", \"Valle\").replace(\".csv\", \"\").replace(\"cauca\", \"Cauca\"),\\\n",
    "        i))\n",
    "    plt.xlabel(\"Date\")\n",
    "    plt.ylabel(\"Cases\")\n",
    "    ax1.set_facecolor((0.9, 0.9, 0.9, 0.7))\n",
    "    plt.axhline(linewidth=1.5, color='black')\n",
    "    plt.grid(linestyle='dashed', linewidth=1.5)\n",
    "    \n",
    "    ax2 = plt.subplot2grid((4, 4), (3, 0), rowspan=1, colspan=4)\n",
    "    plt.gca().set_color_cycle(colors[1:3])\n",
    "    out[[\"Naive-Error\", \"LSTM-Error\"]].plot(ax=ax2, legend=True)\n",
    "    plt.title(\"Error per model\")\n",
    "    plt.xlabel(\"Date\")\n",
    "    plt.ylabel(\"Error\")\n",
    "    plt.axhline(linewidth=1.5, color='black')\n",
    "    ax2.set_facecolor((0.9, 0.9, 0.9, 0.7))\n",
    "    ax2.grid(linestyle='dashed', linewidth=1.5)\n",
    "    plt.tight_layout()\n",
    "    \n",
    "    fig.savefig(\"GRU-VS-LSTM/{}/{}-{}_Week\".format(trainCountry, testState.replace(\".csv\",\"\"), i))\n"
   ]
  },
  {
   "cell_type": "code",
   "execution_count": null,
   "metadata": {
    "collapsed": true
   },
   "outputs": [],
   "source": []
  }
 ],
 "metadata": {
  "kernelspec": {
   "display_name": "Python 3",
   "language": "python",
   "name": "python3"
  },
  "language_info": {
   "codemirror_mode": {
    "name": "ipython",
    "version": 3
   },
   "file_extension": ".py",
   "mimetype": "text/x-python",
   "name": "python",
   "nbconvert_exporter": "python",
   "pygments_lexer": "ipython3",
   "version": "3.6.3"
  }
 },
 "nbformat": 4,
 "nbformat_minor": 2
}
