{
 "cells": [
  {
   "cell_type": "code",
   "execution_count": 3,
   "metadata": {
    "collapsed": true
   },
   "outputs": [],
   "source": [
    "import pandas as pd\n",
    "import os\n",
    "import matplotlib.pyplot as plt"
   ]
  },
  {
   "cell_type": "code",
   "execution_count": 18,
   "metadata": {},
   "outputs": [
    {
     "name": "stderr",
     "output_type": "stream",
     "text": [
      "E:\\Aplicaciones\\Anaconda\\lib\\site-packages\\matplotlib\\pyplot.py:523: RuntimeWarning: More than 20 figures have been opened. Figures created through the pyplot interface (`matplotlib.pyplot.figure`) are retained until explicitly closed and may consume too much memory. (To control this warning, see the rcParam `figure.max_open_warning`).\n",
      "  max_open_warning, RuntimeWarning)\n"
     ]
    }
   ],
   "source": [
    "for country in [\"Brazil\", \"Colombia\", \"Mexico\"]:\n",
    "    \n",
    "    #Arimax\n",
    "    ArimaxFolder = \"../Models/Arimax/BestModels\"\n",
    "    model = os.listdir(\"{}/{}\".format(ArimaxFolder, country))[0] #Only one model\n",
    "    arimaxPredictions = {}\n",
    "    arimaxErrors = {}\n",
    "    \n",
    "    for state in os.listdir(\"{}/{}/{}\".format(ArimaxFolder, country, model)):\n",
    "        dataset = pd.read_csv(\"{0}/{1}/{2}/{3}/Arimax-{3}\".format(ArimaxFolder, country, model, state))\n",
    "        arimaxPredictions[state] = dataset[\"Predicted Cases\"].values\n",
    "        arimaxErrors[state] = dataset[\"error\"].values\n",
    "        \n",
    "    #Prophet\n",
    "    prophetPredictions = {}\n",
    "    prophetErrors = {}\n",
    "    ProphetFolder = \"../Models/Prophet\"\n",
    "    observed = {}\n",
    "    for state in os.listdir(\"{}/{}\".format(ProphetFolder, country)):\n",
    "        dataset = pd.read_csv(\"{0}/{1}/{2}/Prophet-{2}\".format(ProphetFolder, country, state))\n",
    "        prophetPredictions[state] = dataset[\"Predicted\"].values\n",
    "        observed[state] = dataset[\"Observed\"].values\n",
    "        \n",
    "        prophetErrors[state] = dataset[\"error\"].values\n",
    "        \n",
    "    #LSTM\n",
    "    lstmPredictions = {}\n",
    "    LSTMFolder = \"../Models/LSTM_yearly\"\n",
    "    lstmErrors = {}\n",
    "    for state in os.listdir(\"{}/{}\".format(LSTMFolder, country)):\n",
    "        dataset = pd.read_csv(\"{0}/{1}/{2}/{2}\".format(LSTMFolder, country, state))\n",
    "        lstmPredictions[state] = dataset[\"Predicted\"].values\n",
    "        lstmErrors[state] = dataset[\"error\"].values\n",
    "    #Naive\n",
    "    naivePrediction = {}\n",
    "    NaiveFolder = \"../Models/Naive\"\n",
    "    naivePredictions = {}\n",
    "    naiveErrors = {}\n",
    "    for state in os.listdir(\"{}/{}\".format(NaiveFolder, country)):\n",
    "        dataset = pd.read_csv(\"{0}/{1}/{2}/Naive-{2}\".format(NaiveFolder, country, state))\n",
    "        naivePredictions[state] = dataset[\"Predicted\"].values\n",
    "        naiveErrors[state] = dataset[\"error\"].values\n",
    "    #\n",
    "\n",
    "        \n",
    "    for state in arimaxPredictions:\n",
    "        outDataset = pd.DataFrame()\n",
    "        outDataset.insert(0, \"Arimax\", arimaxPredictions[state])\n",
    "        outDataset.insert(1, \"LSTM\", lstmPredictions[state])\n",
    "        outDataset.insert(2, \"Naive\", naivePredictions[state])\n",
    "        outDataset.insert(3, \"Observed\", observed[state])       \n",
    "        fig = plt.figure(figsize=(16,8))\n",
    "        ax1 = fig.add_subplot(211)\n",
    "        \n",
    "        outDataset[[\"Arimax\", \"LSTM\", \"Naive\", \"Observed\"]].plot(ax=ax1, legend=True)\n",
    "        plt.title(\"Model predictions for {} 2017\".format(state.replace(\"_2016-2017.csv\", \"\")))\n",
    "        plt.xlabel(\"Epi Week\")\n",
    "        plt.ylabel(\"Cases\")\n",
    "        \n",
    "        ax1.set_facecolor((0.9, 0.9, 0.9, 0.7))\n",
    "        plt.axhline(linewidth=1.5, color='black')\n",
    "        plt.grid(linestyle='dashed', linewidth=1.5)\n",
    "        \n",
    "        ax2 = fig.add_subplot(212)\n",
    "        errorDataset = pd.DataFrame()\n",
    "        errorDataset.insert(0, \"Arimax Error\", arimaxErrors[state])\n",
    "        errorDataset.insert(1, \"LSTM Error\", lstmErrors[state])\n",
    "        errorDataset.insert(2, \"Naive Error\", naiveErrors[state])\n",
    "        \n",
    "        errorDataset[[\"Arimax Error\", \"LSTM Error\", \"Naive Error\"]].plot(ax=ax2, legend=True)\n",
    "        plt.title(\"Error per model for {} 2017\".format(state.replace(\"_2016-2017.csv\", \"\")))\n",
    "        plt.xlabel(\"Epi Week\")\n",
    "        plt.ylabel(\"Error\")\n",
    "        plt.axhline(linewidth=1.5, color='black')\n",
    "        ax2.set_facecolor((0.9, 0.9, 0.9, 0.7))\n",
    "        ax2.grid(linestyle='dashed', linewidth=1.5)\n",
    "        \n",
    "        fig = plt.gcf()\n",
    "        \n",
    "        plt.subplots_adjust(left=None, right=None, top=None,\n",
    "        wspace=None, hspace=0.4)\n",
    "        \n",
    "        fig.savefig(\"{}/{}\".format(country, state.replace(\".csv\", \"\")))\n",
    "        \n",
    "        outDataset.to_csv(\"{}/{}\".format(country, state))\n",
    "        errorDataset.to_csv(\"{}/Error-{}\".format(country, state))\n",
    "    #Errors \n",
    "#     for state in arimaxErrors:\n",
    "#         outDataset = pd.DataFrame()\n",
    "#         outDataset.insert(0, \"Arimax Error\", arimaxErrors[state])\n",
    "#         outDataset.insert(1, \"Prophet Error\", prophetErrors[state])\n",
    "#         outDataset.insert(2, \"LSTM Error\", lstmErrors[state])\n",
    "#         outDataset.insert(3, \"Naive Error\", naiveErrors[state])\n",
    "        \n",
    "        \n",
    "#         outDataset[[\"Arimax Error\", \"LSTM Error\", \"Naive Error\"]].plot(figsize=(12,4))\n",
    "#         plt.title(\"Error per model for {} 2017\".format(state.replace(\"_2016-2017.csv\", \"\")))\n",
    "#         plt.xlabel(\"Epi Week\")\n",
    "#         plt.ylabel(\"Error\")\n",
    "#         plt.axhline(linewidth=1.5, color='black')\n",
    "#         ax = plt.gca()\n",
    "#         ax.set_facecolor((0.9, 0.9, 0.9, 0.7))\n",
    "#         plt.legend()\n",
    "#         plt.grid(linestyle='dashed', linewidth=1.5)\n",
    "#         fig = plt.gcf()\n",
    "#         fig.savefig(\"{}/{}-Error\".format(country, state.replace(\".csv\", \"\")))\n",
    "        \n",
    "#         outDataset.to_csv(\"{}/{}\".format(country, state))\n",
    "        "
   ]
  },
  {
   "cell_type": "code",
   "execution_count": null,
   "metadata": {
    "collapsed": true
   },
   "outputs": [],
   "source": [
    "\n",
    "\n"
   ]
  }
 ],
 "metadata": {
  "kernelspec": {
   "display_name": "Python 3",
   "language": "python",
   "name": "python3"
  },
  "language_info": {
   "codemirror_mode": {
    "name": "ipython",
    "version": 3
   },
   "file_extension": ".py",
   "mimetype": "text/x-python",
   "name": "python",
   "nbconvert_exporter": "python",
   "pygments_lexer": "ipython3",
   "version": "3.6.3"
  }
 },
 "nbformat": 4,
 "nbformat_minor": 2
}
